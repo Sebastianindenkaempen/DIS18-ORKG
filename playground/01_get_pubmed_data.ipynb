{
 "cells": [
  {
   "cell_type": "code",
   "execution_count": 2,
   "id": "195ee403",
   "metadata": {},
   "outputs": [],
   "source": [
    "import pandas as pd\n",
    "import sys\n",
    "import os\n",
    "sys.path.append(os.path.abspath(\"..\"))\n",
    "import importlib\n",
    "import functions.pubmed_api\n",
    "importlib.reload(functions.pubmed_api)\n",
    "from functions.pubmed_api import get_pmids, translate_pmid_to_pmcid, get_full_xml, extract_article_data"
   ]
  },
  {
   "cell_type": "code",
   "execution_count": null,
   "id": "a329207c",
   "metadata": {},
   "outputs": [
    {
     "data": {
      "text/plain": [
       "['28915920', '39535188', '40145745']"
      ]
     },
     "execution_count": 5,
     "metadata": {},
     "output_type": "execute_result"
    }
   ],
   "source": [
    "search_term = '(avian influenza[MeSH Terms]) AND (disease outbreak[MeSH Terms])'\n",
    "\n",
    "pubmed_ids = get_pmids(search_term, 3)\n",
    "pubmed_ids"
   ]
  },
  {
   "cell_type": "code",
   "execution_count": 6,
   "id": "cca0dd58",
   "metadata": {},
   "outputs": [
    {
     "data": {
      "text/plain": [
       "['PMC5603032', 'PMC11633217', 'PMC11998540']"
      ]
     },
     "execution_count": 6,
     "metadata": {},
     "output_type": "execute_result"
    }
   ],
   "source": [
    "pmc_ids = []\n",
    "\n",
    "for pmid in pubmed_ids:\n",
    "    pmc_id = translate_pmid_to_pmcid(pmid)\n",
    "    pmc_ids.append(pmc_id)\n",
    "\n",
    "pmc_ids"
   ]
  },
  {
   "cell_type": "code",
   "execution_count": 1,
   "id": "971ca999",
   "metadata": {},
   "outputs": [
    {
     "ename": "NameError",
     "evalue": "name 'pd' is not defined",
     "output_type": "error",
     "traceback": [
      "\u001b[1;31m---------------------------------------------------------------------------\u001b[0m",
      "\u001b[1;31mNameError\u001b[0m                                 Traceback (most recent call last)",
      "Cell \u001b[1;32mIn[1], line 1\u001b[0m\n\u001b[1;32m----> 1\u001b[0m df_full_texts \u001b[38;5;241m=\u001b[39m \u001b[43mpd\u001b[49m\u001b[38;5;241m.\u001b[39mDataFrame(columns\u001b[38;5;241m=\u001b[39m[\u001b[38;5;124m'\u001b[39m\u001b[38;5;124mpmid\u001b[39m\u001b[38;5;124m'\u001b[39m, \u001b[38;5;124m'\u001b[39m\u001b[38;5;124mdoi\u001b[39m\u001b[38;5;124m'\u001b[39m, \u001b[38;5;124m'\u001b[39m\u001b[38;5;124mtitle\u001b[39m\u001b[38;5;124m'\u001b[39m, \u001b[38;5;124m'\u001b[39m\u001b[38;5;124mabstract\u001b[39m\u001b[38;5;124m'\u001b[39m, \u001b[38;5;124m'\u001b[39m\u001b[38;5;124mfull_text\u001b[39m\u001b[38;5;124m'\u001b[39m, \u001b[38;5;124m'\u001b[39m\u001b[38;5;124mauthors\u001b[39m\u001b[38;5;124m'\u001b[39m])\n\u001b[0;32m      3\u001b[0m \u001b[38;5;28;01mfor\u001b[39;00m pmc_id \u001b[38;5;129;01min\u001b[39;00m pmc_ids:\n\u001b[0;32m      4\u001b[0m     df_temp \u001b[38;5;241m=\u001b[39m extract_article_data(get_full_xml(pmc_id))\n",
      "\u001b[1;31mNameError\u001b[0m: name 'pd' is not defined"
     ]
    }
   ],
   "source": [
    "df_full_texts = pd.DataFrame(columns=['pmid', 'doi', 'title', 'abstract', 'full_text', 'authors'])\n",
    "\n",
    "for pmc_id in pmc_ids:\n",
    "    df_temp = extract_article_data(get_full_xml(pmc_id))\n",
    "    df_full_texts = pd.concat([df_full_texts, df_temp], ignore_index=True)\n",
    "\n",
    "df_full_texts.head()"
   ]
  },
  {
   "cell_type": "code",
   "execution_count": 8,
   "id": "55ad1713",
   "metadata": {},
   "outputs": [],
   "source": [
    "df_full_texts.to_csv('full_text.tsv', sep='\\t', mode='w')"
   ]
  }
 ],
 "metadata": {
  "kernelspec": {
   "display_name": "dis18",
   "language": "python",
   "name": "python3"
  },
  "language_info": {
   "codemirror_mode": {
    "name": "ipython",
    "version": 3
   },
   "file_extension": ".py",
   "mimetype": "text/x-python",
   "name": "python",
   "nbconvert_exporter": "python",
   "pygments_lexer": "ipython3",
   "version": "3.10.16"
  }
 },
 "nbformat": 4,
 "nbformat_minor": 5
}
