{
 "cells": [
  {
   "cell_type": "code",
   "execution_count": null,
   "metadata": {},
   "outputs": [],
   "source": [
    "import sys\n",
    "import os\n",
    "\n",
    "sys.path.append(os.path.abspath(\"..\"))\n",
    "\n",
    "from final_code.pubmed_api import get_pmcids\n",
    "from final_code.pubmed_api import create_df_pmcids\n",
    "import pandas as pd\n",
    "import requests\n",
    "import time\n",
    "import xml.etree.ElementTree as ET"
   ]
  },
  {
   "cell_type": "code",
   "execution_count": 9,
   "metadata": {},
   "outputs": [
    {
     "data": {
      "text/html": [
       "<div>\n",
       "<style scoped>\n",
       "    .dataframe tbody tr th:only-of-type {\n",
       "        vertical-align: middle;\n",
       "    }\n",
       "\n",
       "    .dataframe tbody tr th {\n",
       "        vertical-align: top;\n",
       "    }\n",
       "\n",
       "    .dataframe thead th {\n",
       "        text-align: right;\n",
       "    }\n",
       "</style>\n",
       "<table border=\"1\" class=\"dataframe\">\n",
       "  <thead>\n",
       "    <tr style=\"text-align: right;\">\n",
       "      <th></th>\n",
       "      <th>PMCID</th>\n",
       "      <th>search_term</th>\n",
       "    </tr>\n",
       "  </thead>\n",
       "  <tbody>\n",
       "    <tr>\n",
       "      <th>0</th>\n",
       "      <td>PMC11934876</td>\n",
       "      <td>Avian influenza outbreak</td>\n",
       "    </tr>\n",
       "    <tr>\n",
       "      <th>1</th>\n",
       "      <td>PMC11934309</td>\n",
       "      <td>Avian influenza outbreak</td>\n",
       "    </tr>\n",
       "    <tr>\n",
       "      <th>2</th>\n",
       "      <td>PMC11934220</td>\n",
       "      <td>Avian influenza outbreak</td>\n",
       "    </tr>\n",
       "    <tr>\n",
       "      <th>3</th>\n",
       "      <td>PMC11932954</td>\n",
       "      <td>Avian influenza outbreak</td>\n",
       "    </tr>\n",
       "    <tr>\n",
       "      <th>4</th>\n",
       "      <td>PMC11932466</td>\n",
       "      <td>Avian influenza outbreak</td>\n",
       "    </tr>\n",
       "  </tbody>\n",
       "</table>\n",
       "</div>"
      ],
      "text/plain": [
       "         PMCID               search_term\n",
       "0  PMC11934876  Avian influenza outbreak\n",
       "1  PMC11934309  Avian influenza outbreak\n",
       "2  PMC11934220  Avian influenza outbreak\n",
       "3  PMC11932954  Avian influenza outbreak\n",
       "4  PMC11932466  Avian influenza outbreak"
      ]
     },
     "execution_count": 9,
     "metadata": {},
     "output_type": "execute_result"
    }
   ],
   "source": [
    "search_terms = [\"Avian influenza outbreak\", \"EHEC outbreak\"]\n",
    "\n",
    "df = create_df_pmcids(search_terms=search_terms, no_of_results=50)\n",
    "df[\"PMCID\"] = \"PMC\" + df[\"PMCID\"].astype(str)\n",
    "df.head()"
   ]
  },
  {
   "cell_type": "code",
   "execution_count": 5,
   "metadata": {},
   "outputs": [
    {
     "name": "stdout",
     "output_type": "stream",
     "text": [
      "False\n"
     ]
    }
   ],
   "source": [
    "# available: PMC11719993\n",
    "# not available: \n",
    "\n",
    "a = check_if_pmcid_is_available(\"PMC11719993\")\n",
    "a = check_if_pmcid_is_available(\"123456\")\n",
    "print(a)"
   ]
  },
  {
   "cell_type": "code",
   "execution_count": 24,
   "metadata": {},
   "outputs": [
    {
     "data": {
      "text/html": [
       "<div>\n",
       "<style scoped>\n",
       "    .dataframe tbody tr th:only-of-type {\n",
       "        vertical-align: middle;\n",
       "    }\n",
       "\n",
       "    .dataframe tbody tr th {\n",
       "        vertical-align: top;\n",
       "    }\n",
       "\n",
       "    .dataframe thead th {\n",
       "        text-align: right;\n",
       "    }\n",
       "</style>\n",
       "<table border=\"1\" class=\"dataframe\">\n",
       "  <thead>\n",
       "    <tr style=\"text-align: right;\">\n",
       "      <th></th>\n",
       "      <th>PMCID</th>\n",
       "      <th>search_term</th>\n",
       "      <th>has_result</th>\n",
       "    </tr>\n",
       "  </thead>\n",
       "  <tbody>\n",
       "    <tr>\n",
       "      <th>0</th>\n",
       "      <td>PMC11934876</td>\n",
       "      <td>Avian influenza outbreak</td>\n",
       "      <td>True</td>\n",
       "    </tr>\n",
       "    <tr>\n",
       "      <th>1</th>\n",
       "      <td>PMC11934309</td>\n",
       "      <td>Avian influenza outbreak</td>\n",
       "      <td>True</td>\n",
       "    </tr>\n",
       "    <tr>\n",
       "      <th>2</th>\n",
       "      <td>PMC11934220</td>\n",
       "      <td>Avian influenza outbreak</td>\n",
       "      <td>True</td>\n",
       "    </tr>\n",
       "    <tr>\n",
       "      <th>3</th>\n",
       "      <td>PMC11932954</td>\n",
       "      <td>Avian influenza outbreak</td>\n",
       "      <td>True</td>\n",
       "    </tr>\n",
       "    <tr>\n",
       "      <th>4</th>\n",
       "      <td>PMC11932466</td>\n",
       "      <td>Avian influenza outbreak</td>\n",
       "      <td>True</td>\n",
       "    </tr>\n",
       "    <tr>\n",
       "      <th>...</th>\n",
       "      <td>...</td>\n",
       "      <td>...</td>\n",
       "      <td>...</td>\n",
       "    </tr>\n",
       "    <tr>\n",
       "      <th>95</th>\n",
       "      <td>PMC11834125</td>\n",
       "      <td>EHEC outbreak</td>\n",
       "      <td>True</td>\n",
       "    </tr>\n",
       "    <tr>\n",
       "      <th>96</th>\n",
       "      <td>PMC11733599</td>\n",
       "      <td>EHEC outbreak</td>\n",
       "      <td>True</td>\n",
       "    </tr>\n",
       "    <tr>\n",
       "      <th>97</th>\n",
       "      <td>PMC11764226</td>\n",
       "      <td>EHEC outbreak</td>\n",
       "      <td>True</td>\n",
       "    </tr>\n",
       "    <tr>\n",
       "      <th>98</th>\n",
       "      <td>PMC11758462</td>\n",
       "      <td>EHEC outbreak</td>\n",
       "      <td>True</td>\n",
       "    </tr>\n",
       "    <tr>\n",
       "      <th>99</th>\n",
       "      <td>PMC11746998</td>\n",
       "      <td>EHEC outbreak</td>\n",
       "      <td>True</td>\n",
       "    </tr>\n",
       "  </tbody>\n",
       "</table>\n",
       "<p>100 rows × 3 columns</p>\n",
       "</div>"
      ],
      "text/plain": [
       "          PMCID               search_term  has_result\n",
       "0   PMC11934876  Avian influenza outbreak        True\n",
       "1   PMC11934309  Avian influenza outbreak        True\n",
       "2   PMC11934220  Avian influenza outbreak        True\n",
       "3   PMC11932954  Avian influenza outbreak        True\n",
       "4   PMC11932466  Avian influenza outbreak        True\n",
       "..          ...                       ...         ...\n",
       "95  PMC11834125             EHEC outbreak        True\n",
       "96  PMC11733599             EHEC outbreak        True\n",
       "97  PMC11764226             EHEC outbreak        True\n",
       "98  PMC11758462             EHEC outbreak        True\n",
       "99  PMC11746998             EHEC outbreak        True\n",
       "\n",
       "[100 rows x 3 columns]"
      ]
     },
     "execution_count": 24,
     "metadata": {},
     "output_type": "execute_result"
    }
   ],
   "source": [
    "df[\"has_result\"] = df[\"PMCID\"].apply(check_if_pmcid_is_available)\n",
    "\n",
    "df"
   ]
  },
  {
   "cell_type": "code",
   "execution_count": 25,
   "metadata": {},
   "outputs": [],
   "source": [
    "df.to_csv(\"check_for_results.csv\")"
   ]
  },
  {
   "cell_type": "code",
   "execution_count": 15,
   "metadata": {},
   "outputs": [
    {
     "name": "stdout",
     "output_type": "stream",
     "text": [
      "https://eutils.ncbi.nlm.nih.gov/entrez/eutils/efetch.fcgi?db=pmc&id=open+access%5Bfilter%5D%2BPMC11719993&retmode=xml\n"
     ]
    }
   ],
   "source": [
    "def get_call_link(pmcid):\n",
    "    search_url = \"https://eutils.ncbi.nlm.nih.gov/entrez/eutils/efetch.fcgi\"\n",
    "    params = {\n",
    "        \"db\": \"pmc\", \n",
    "        \"id\": \"open access[filter]+\" + pmcid, \n",
    "        \"retmode\": \"xml\"\n",
    "    }\n",
    "    response = requests.get(search_url, params=params)\n",
    "    time.sleep(0.5)\n",
    "\n",
    "    return response.url\n",
    "\n",
    "# u = get_call_link(\"PMC11719993\")\n",
    "u = get_call_link(\"PMC11719993\")\n",
    "print(u)\n",
    "   "
   ]
  }
 ],
 "metadata": {
  "kernelspec": {
   "display_name": "dis18",
   "language": "python",
   "name": "python3"
  },
  "language_info": {
   "codemirror_mode": {
    "name": "ipython",
    "version": 3
   },
   "file_extension": ".py",
   "mimetype": "text/x-python",
   "name": "python",
   "nbconvert_exporter": "python",
   "pygments_lexer": "ipython3",
   "version": "3.10.16"
  }
 },
 "nbformat": 4,
 "nbformat_minor": 2
}
