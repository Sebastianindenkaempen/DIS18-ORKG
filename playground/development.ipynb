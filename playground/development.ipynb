{
 "cells": [
  {
   "cell_type": "code",
   "execution_count": 2,
   "metadata": {},
   "outputs": [],
   "source": [
    "import sys\n",
    "import os\n",
    "\n",
    "sys.path.append(os.path.abspath(\"..\"))\n",
    "\n",
    "# from final_code.pubmed_api import get_pmcids\n",
    "from final_code.pubmed_api import create_df_pmcids\n",
    "from final_code.pubmed_api import check_if_pmcid_is_available\n",
    "from final_code.pubmed_api import get_full_xml\n",
    "from final_code.pubmed_api import extract_article_data\n",
    "import pandas as pd\n",
    "import requests\n",
    "import time\n",
    "import xml.etree.ElementTree as ET"
   ]
  },
  {
   "cell_type": "code",
   "execution_count": 5,
   "metadata": {},
   "outputs": [
    {
     "name": "stdout",
     "output_type": "stream",
     "text": [
      "False\n"
     ]
    }
   ],
   "source": [
    "# available: PMC11719993\n",
    "# not available: \n",
    "\n",
    "a = check_if_pmcid_is_available(\"PMC11719993\")\n",
    "a = check_if_pmcid_is_available(\"123456\")\n",
    "print(a)"
   ]
  },
  {
   "cell_type": "code",
   "execution_count": 15,
   "metadata": {},
   "outputs": [
    {
     "name": "stdout",
     "output_type": "stream",
     "text": [
      "https://eutils.ncbi.nlm.nih.gov/entrez/eutils/efetch.fcgi?db=pmc&id=open+access%5Bfilter%5D%2BPMC11719993&retmode=xml\n"
     ]
    }
   ],
   "source": [
    "def get_call_link(pmcid):\n",
    "    search_url = \"https://eutils.ncbi.nlm.nih.gov/entrez/eutils/efetch.fcgi\"\n",
    "    params = {\n",
    "        \"db\": \"pmc\", \n",
    "        \"id\": \"open access[filter]+\" + pmcid, \n",
    "        \"retmode\": \"xml\"\n",
    "    }\n",
    "    response = requests.get(search_url, params=params)\n",
    "    time.sleep(0.5)\n",
    "\n",
    "    return response.url\n",
    "\n",
    "# u = get_call_link(\"PMC11719993\")\n",
    "u = get_call_link(\"PMC11719993\")\n",
    "print(u)\n",
    "   "
   ]
  },
  {
   "cell_type": "code",
   "execution_count": null,
   "metadata": {},
   "outputs": [],
   "source": []
  }
 ],
 "metadata": {
  "kernelspec": {
   "display_name": "dis18",
   "language": "python",
   "name": "python3"
  },
  "language_info": {
   "codemirror_mode": {
    "name": "ipython",
    "version": 3
   },
   "file_extension": ".py",
   "mimetype": "text/x-python",
   "name": "python",
   "nbconvert_exporter": "python",
   "pygments_lexer": "ipython3",
   "version": "3.10.16"
  }
 },
 "nbformat": 4,
 "nbformat_minor": 2
}
