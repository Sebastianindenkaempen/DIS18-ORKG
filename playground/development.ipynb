{
 "cells": [
  {
   "cell_type": "code",
   "execution_count": 5,
   "metadata": {},
   "outputs": [],
   "source": [
    "import sys\n",
    "import os\n",
    "\n",
    "sys.path.append(os.path.abspath(\"..\"))\n",
    "\n",
    "from final_code.pubmed_esearch import get_pmcids\n",
    "import pandas as pd"
   ]
  },
  {
   "cell_type": "code",
   "execution_count": 6,
   "metadata": {},
   "outputs": [
    {
     "name": "stdout",
     "output_type": "stream",
     "text": [
      "        PMCID               search_term\n",
      "0    11922848  Avian influenza outbreak\n",
      "1    11922521  Avian influenza outbreak\n",
      "2    11921831  Avian influenza outbreak\n",
      "3    11920889  Avian influenza outbreak\n",
      "4    11919594  Avian influenza outbreak\n",
      "..        ...                       ...\n",
      "195  11762087             EHEC outbreak\n",
      "196  11596120             EHEC outbreak\n",
      "197  11554229             EHEC outbreak\n",
      "198  11617709             EHEC outbreak\n",
      "199  11832244             EHEC outbreak\n",
      "\n",
      "[200 rows x 2 columns]\n"
     ]
    }
   ],
   "source": [
    "search_terms = [\"Avian influenza outbreak\", \"EHEC outbreak\"]\n",
    "df = pd.DataFrame(columns=['PMCID', 'search_term'])\n",
    "\n",
    "for term in search_terms:\n",
    "    pmcids = get_pmcids(term, 100) \n",
    "    temp_df = pd.DataFrame({\"PMCID\": pmcids, \"search_term\": term}) \n",
    "    df = pd.concat([df, temp_df], ignore_index=True)\n",
    "    df.to_csv('100_calls.csv', encoding=\"utf-8\")\n",
    "\n",
    "print(df)"
   ]
  },
  {
   "cell_type": "code",
   "execution_count": null,
   "metadata": {},
   "outputs": [],
   "source": [
    "def check_if_pmcid_is_available():\n",
    "    "
   ]
  }
 ],
 "metadata": {
  "kernelspec": {
   "display_name": "base",
   "language": "python",
   "name": "python3"
  },
  "language_info": {
   "codemirror_mode": {
    "name": "ipython",
    "version": 3
   },
   "file_extension": ".py",
   "mimetype": "text/x-python",
   "name": "python",
   "nbconvert_exporter": "python",
   "pygments_lexer": "ipython3",
   "version": "3.12.7"
  }
 },
 "nbformat": 4,
 "nbformat_minor": 2
}
