{
 "cells": [
  {
   "cell_type": "code",
   "execution_count": 2,
   "metadata": {},
   "outputs": [],
   "source": [
    "import sys\n",
    "import os\n",
    "\n",
    "sys.path.append(os.path.abspath(\"..\"))\n",
    "\n",
    "from final_code.pubmed_api import pubmed_api_pull\n",
    "from final_code.language_model import check_if_text_has_outbreak\n",
    "from final_code.language_model import extract_outbreak_place\n",
    "import pandas as pd\n",
    "import requests"
   ]
  },
  {
   "cell_type": "code",
   "execution_count": 4,
   "metadata": {},
   "outputs": [],
   "source": [
    "t = [\"Avian Influenza outbreak\"]\n",
    "n = 1"
   ]
  },
  {
   "cell_type": "code",
   "execution_count": 5,
   "metadata": {},
   "outputs": [
    {
     "data": {
      "text/html": [
       "<div>\n",
       "<style scoped>\n",
       "    .dataframe tbody tr th:only-of-type {\n",
       "        vertical-align: middle;\n",
       "    }\n",
       "\n",
       "    .dataframe tbody tr th {\n",
       "        vertical-align: top;\n",
       "    }\n",
       "\n",
       "    .dataframe thead th {\n",
       "        text-align: right;\n",
       "    }\n",
       "</style>\n",
       "<table border=\"1\" class=\"dataframe\">\n",
       "  <thead>\n",
       "    <tr style=\"text-align: right;\">\n",
       "      <th></th>\n",
       "      <th>pmid</th>\n",
       "      <th>title</th>\n",
       "      <th>abstract</th>\n",
       "      <th>full_text</th>\n",
       "      <th>authors</th>\n",
       "    </tr>\n",
       "  </thead>\n",
       "  <tbody>\n",
       "    <tr>\n",
       "      <th>0</th>\n",
       "      <td>40185841</td>\n",
       "      <td>Design and validation of a semi-quantitative m...</td>\n",
       "      <td>Since 2001, human Metapneumovirus has been a s...</td>\n",
       "      <td>Introduction Human Metapneumovirus from discov...</td>\n",
       "      <td>Riolo Giulia giulia.riolo@gmail.com 1, Biagini...</td>\n",
       "    </tr>\n",
       "  </tbody>\n",
       "</table>\n",
       "</div>"
      ],
      "text/plain": [
       "       pmid                                              title  \\\n",
       "0  40185841  Design and validation of a semi-quantitative m...   \n",
       "\n",
       "                                            abstract  \\\n",
       "0  Since 2001, human Metapneumovirus has been a s...   \n",
       "\n",
       "                                           full_text  \\\n",
       "0  Introduction Human Metapneumovirus from discov...   \n",
       "\n",
       "                                             authors  \n",
       "0  Riolo Giulia giulia.riolo@gmail.com 1, Biagini...  "
      ]
     },
     "execution_count": 5,
     "metadata": {},
     "output_type": "execute_result"
    }
   ],
   "source": [
    "df = pubmed_api_pull(t, n)\n",
    "df"
   ]
  },
  {
   "cell_type": "code",
   "execution_count": 6,
   "metadata": {},
   "outputs": [
    {
     "data": {
      "text/html": [
       "<div>\n",
       "<style scoped>\n",
       "    .dataframe tbody tr th:only-of-type {\n",
       "        vertical-align: middle;\n",
       "    }\n",
       "\n",
       "    .dataframe tbody tr th {\n",
       "        vertical-align: top;\n",
       "    }\n",
       "\n",
       "    .dataframe thead th {\n",
       "        text-align: right;\n",
       "    }\n",
       "</style>\n",
       "<table border=\"1\" class=\"dataframe\">\n",
       "  <thead>\n",
       "    <tr style=\"text-align: right;\">\n",
       "      <th></th>\n",
       "      <th>pmid</th>\n",
       "      <th>title</th>\n",
       "      <th>abstract</th>\n",
       "      <th>full_text</th>\n",
       "      <th>authors</th>\n",
       "      <th>has_outbreak</th>\n",
       "    </tr>\n",
       "  </thead>\n",
       "  <tbody>\n",
       "    <tr>\n",
       "      <th>0</th>\n",
       "      <td>40185841</td>\n",
       "      <td>Design and validation of a semi-quantitative m...</td>\n",
       "      <td>Since 2001, human Metapneumovirus has been a s...</td>\n",
       "      <td>Introduction Human Metapneumovirus from discov...</td>\n",
       "      <td>Riolo Giulia giulia.riolo@gmail.com 1, Biagini...</td>\n",
       "      <td>False\\n</td>\n",
       "    </tr>\n",
       "  </tbody>\n",
       "</table>\n",
       "</div>"
      ],
      "text/plain": [
       "       pmid                                              title  \\\n",
       "0  40185841  Design and validation of a semi-quantitative m...   \n",
       "\n",
       "                                            abstract  \\\n",
       "0  Since 2001, human Metapneumovirus has been a s...   \n",
       "\n",
       "                                           full_text  \\\n",
       "0  Introduction Human Metapneumovirus from discov...   \n",
       "\n",
       "                                             authors has_outbreak  \n",
       "0  Riolo Giulia giulia.riolo@gmail.com 1, Biagini...      False\\n  "
      ]
     },
     "execution_count": 6,
     "metadata": {},
     "output_type": "execute_result"
    }
   ],
   "source": [
    "def check_if_text_has_outbreak(text):\n",
    "    response = requests.post(\n",
    "        \"http://localhost:11434/api/generate\",\n",
    "        json={\n",
    "            \"model\": \"gemma3:1b\",\n",
    "            \"prompt\": \n",
    "        f\"\"\"\n",
    "        Analysiere den folgenden Text:\n",
    "\n",
    "        {text}\n",
    "\n",
    "        Frage: Enthält dieser Text Informationen über einen Krankheitsausbruch?\n",
    "\n",
    "        Antworte bitte ausschließlich mit:\n",
    "        True  --> falls es Informationen über einen Krankheitsausbruch gibt\n",
    "        False --> falls es keine Informationen über einen Krankheitsausbruch gibt\n",
    "\n",
    "        Antwort:\"\"\",\n",
    "            \"stream\": False\n",
    "        }\n",
    "\n",
    "        )\n",
    "    return response.json()[\"response\"]\n",
    "\n",
    "df[\"has_outbreak\"] = df[\"full_text\"].apply(check_if_text_has_outbreak)\n",
    "df"
   ]
  },
  {
   "cell_type": "code",
   "execution_count": null,
   "metadata": {},
   "outputs": [],
   "source": [
    "text = df.loc[0][\"full_text\"]\n",
    "print(text)"
   ]
  },
  {
   "cell_type": "code",
   "execution_count": 23,
   "metadata": {},
   "outputs": [
    {
     "name": "stdout",
     "output_type": "stream",
     "text": [
      "False\n"
     ]
    }
   ],
   "source": [
    "answer = check_if_text_has_outbreak(text)\n",
    "print(answer)"
   ]
  },
  {
   "cell_type": "code",
   "execution_count": null,
   "metadata": {},
   "outputs": [],
   "source": []
  }
 ],
 "metadata": {
  "kernelspec": {
   "display_name": "dis18",
   "language": "python",
   "name": "python3"
  },
  "language_info": {
   "codemirror_mode": {
    "name": "ipython",
    "version": 3
   },
   "file_extension": ".py",
   "mimetype": "text/x-python",
   "name": "python",
   "nbconvert_exporter": "python",
   "pygments_lexer": "ipython3",
   "version": "3.10.16"
  }
 },
 "nbformat": 4,
 "nbformat_minor": 2
}
