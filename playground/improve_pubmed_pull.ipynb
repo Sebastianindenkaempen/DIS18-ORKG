{
 "cells": [
  {
   "cell_type": "code",
   "execution_count": 4,
   "id": "e2f4ceea",
   "metadata": {},
   "outputs": [],
   "source": [
    "import requests\n",
    "import time\n",
    "import pandas as pd"
   ]
  },
  {
   "cell_type": "code",
   "execution_count": 6,
   "id": "405b2e19",
   "metadata": {},
   "outputs": [],
   "source": [
    "def get_pmcids(search_term, no_of_results):\n",
    "    search_url = \"https://eutils.ncbi.nlm.nih.gov/entrez/eutils/esearch.fcgi\"\n",
    "    params = {\n",
    "        # \"db\": \"pmc\",                                           # Source: https://www.ncbi.nlm.nih.gov/books/NBK25497/table/chapter2.T._entrez_unique_identifiers_ui/?report=objectonly\n",
    "        # \"term\": \"open access[filter]+\" + search_term,    # Source: https://pmc.ncbi.nlm.nih.gov/tools/openftlist/\n",
    "        \"db\": \"pubmed\",\n",
    "        \"term\": \"pubmed pmc open access[filter] AND \" + search_term,\n",
    "        \"retmode\": \"json\",                                      # Return format. Changed to XML\n",
    "        \"retmax\": no_of_results,                                # Number of results\n",
    "    }\n",
    "    response = requests.get(search_url, params=params)\n",
    "    time.sleep(0.34)                                     # Wait after request to respect API limit of 3 requests per second TODO: Add Source\n",
    "    if response.status_code == 200:\n",
    "        data = response.json()\n",
    "        return data[\"esearchresult\"][\"idlist\"]\n",
    "    else:\n",
    "        print(f\"Fehler bei der Anfrage für '{search_term}': {response.status_code}\")\n",
    "        return []"
   ]
  },
  {
   "cell_type": "code",
   "execution_count": 14,
   "id": "391c299c",
   "metadata": {},
   "outputs": [
    {
     "data": {
      "text/plain": [
       "{'header': {'type': 'esearch', 'version': '0.3'},\n",
       " 'esearchresult': {'count': '672',\n",
       "  'retmax': '10',\n",
       "  'retstart': '0',\n",
       "  'idlist': ['28915920',\n",
       "   '18455796',\n",
       "   '39535188',\n",
       "   '40145745',\n",
       "   '39053575',\n",
       "   '16566867',\n",
       "   '16253881',\n",
       "   '36958010',\n",
       "   '16277753',\n",
       "   '32687049'],\n",
       "  'translationset': [{'from': 'avian influenza[MeSH Terms]',\n",
       "    'to': '\"influenza in birds\"[MeSH Terms]'},\n",
       "   {'from': 'disease outbreak[MeSH Terms]',\n",
       "    'to': '\"disease outbreaks\"[MeSH Terms]'}],\n",
       "  'querytranslation': '\"pubmed pmc open access\"[Filter] AND \"influenza in birds\"[MeSH Terms] AND \"disease outbreaks\"[MeSH Terms]'}}"
      ]
     },
     "execution_count": 14,
     "metadata": {},
     "output_type": "execute_result"
    }
   ],
   "source": [
    "def get_json(search_term, no_of_results):\n",
    "    search_url = \"https://eutils.ncbi.nlm.nih.gov/entrez/eutils/esearch.fcgi\"\n",
    "    params = {\n",
    "        # \"db\": \"pmc\",                                           # Source: https://www.ncbi.nlm.nih.gov/books/NBK25497/table/chapter2.T._entrez_unique_identifiers_ui/?report=objectonly\n",
    "        # \"term\": \"open access[filter]+\" + search_term,    # Source: https://pmc.ncbi.nlm.nih.gov/tools/openftlist/\n",
    "        \"db\": \"pubmed\",\n",
    "        \"term\": \"pubmed pmc open access[filter] AND \" + search_term,\n",
    "        \"retmode\": \"json\",                                      # Return format. Changed to XML\n",
    "        \"retmax\": no_of_results,                                # Number of results\n",
    "        \"sort\": \"relevance\"\n",
    "    }\n",
    "    response = requests.get(search_url, params=params)\n",
    "    time.sleep(0.34)                                     # Wait after request to respect API limit of 3 requests per second TODO: Add Source\n",
    "    if response.status_code == 200:\n",
    "        data = response.json()\n",
    "        return data\n",
    "        # [\"esearchresult\"][\"idlist\"]\n",
    "    else:\n",
    "        print(f\"Fehler bei der Anfrage für '{search_term}': {response.status_code}\")\n",
    "        return []\n",
    "\n",
    "test = get_json('(avian influenza[MeSH Terms]) AND (disease outbreak[MeSH Terms])', 10)\n",
    "test"
   ]
  },
  {
   "cell_type": "code",
   "execution_count": null,
   "id": "1b8cb639",
   "metadata": {},
   "outputs": [],
   "source": []
  },
  {
   "cell_type": "code",
   "execution_count": null,
   "id": "45b72e9e",
   "metadata": {},
   "outputs": [
    {
     "data": {
      "text/plain": [
       "'PMC12031089'"
      ]
     },
     "execution_count": 17,
     "metadata": {},
     "output_type": "execute_result"
    }
   ],
   "source": [
    "import requests\n",
    "\n",
    "def translate_pmid_to_pmcid(pmid):\n",
    "    url = \"https://eutils.ncbi.nlm.nih.gov/entrez/eutils/esummary.fcgi\"\n",
    "    params = {\n",
    "        \"db\":\"pubmed\",\n",
    "        \"id\": pmid,\n",
    "        \"retmode\":\"json\"\n",
    "\n",
    "    }\n",
    "    db=pubmed&id={pmid}&retmode=json\"\n",
    "    response = requests.get(url)\n",
    "    data = response.json()\n",
    "    doc = data['result'][pmid]\n",
    "    pmcid = doc.get(\"articleids\", [])\n",
    "    for id_obj in pmcid:\n",
    "        if id_obj[\"idtype\"] == \"pmc\":\n",
    "            return id_obj[\"value\"]\n",
    "\n",
    "t = translate_pmid_to_pmcid(\"40285026\")\n",
    "t\n",
    "\n",
    "\n",
    "\n",
    "# pmid = \"40285026\"  # Beispiel-PMID\n",
    "\n",
    "\n",
    "# response = requests.get(url)\n",
    "# data = response.json()\n",
    "\n",
    "# # Zugriff auf PMCID (falls vorhanden)\n",
    "# doc = data['result'][pmid]\n",
    "# pmcid = doc.get(\"articleids\", [])\n",
    "\n",
    "# # Extrahiere explizit PMCID\n",
    "# for id_obj in pmcid:\n",
    "#     if id_obj[\"idtype\"] == \"pmc\":\n",
    "#         print(\"PMCID:\", id_obj[\"value\"])\n"
   ]
  },
  {
   "cell_type": "code",
   "execution_count": null,
   "id": "2657ef98",
   "metadata": {},
   "outputs": [],
   "source": [
    "import requests\n",
    "from xml.etree import ElementTree as ET\n",
    "\n",
    "# Abstract\n",
    "\n",
    "pmid = \"34816252\"  # Beispielhafte PubMed-ID\n",
    "url = f\"https://eutils.ncbi.nlm.nih.gov/entrez/eutils/efetch.fcgi\"\n",
    "params = {\n",
    "    \"db\": \"pubmed\",\n",
    "    \"id\": pmid,\n",
    "    \"retmode\": \"xml\"\n",
    "}\n",
    "\n",
    "response = requests.get(url, params=params)\n",
    "root = ET.fromstring(response.text)\n",
    "\n",
    "# Extrahiere den Abstract\n",
    "abstract_texts = root.findall(\".//AbstractText\")\n",
    "abstract = \" \".join(elem.text for elem in abstract_texts if elem.text)\n",
    "\n",
    "print(\"Abstract:\", abstract)\n"
   ]
  },
  {
   "cell_type": "code",
   "execution_count": 7,
   "id": "7abba18f",
   "metadata": {},
   "outputs": [
    {
     "data": {
      "text/plain": [
       "['40285026',\n",
       " '40285016',\n",
       " '40284978',\n",
       " '40284893',\n",
       " '40279164',\n",
       " '40278010',\n",
       " '40256930',\n",
       " '40255978',\n",
       " '40253358',\n",
       " '40251629']"
      ]
     },
     "execution_count": 7,
     "metadata": {},
     "output_type": "execute_result"
    }
   ],
   "source": [
    "search1 = 'avian influenza outbreak'\n",
    "\n",
    "pmcids = get_pmcids(search1, 10)\n",
    "pmcids"
   ]
  },
  {
   "cell_type": "code",
   "execution_count": 13,
   "id": "aed29a6d",
   "metadata": {},
   "outputs": [
    {
     "data": {
      "text/plain": [
       "['12032427',\n",
       " '12032236',\n",
       " '12031540',\n",
       " '12031521',\n",
       " '12031341',\n",
       " '12031337',\n",
       " '12031321',\n",
       " '12030940',\n",
       " '12030858',\n",
       " '12030792']"
      ]
     },
     "execution_count": 13,
     "metadata": {},
     "output_type": "execute_result"
    }
   ],
   "source": [
    "search2 = '\"avian influenza\" AND (outbreak)'\n",
    "\n",
    "pmcids = get_pmcids(search2, 10)\n",
    "pmcids"
   ]
  },
  {
   "cell_type": "code",
   "execution_count": 14,
   "id": "0159934d",
   "metadata": {},
   "outputs": [
    {
     "data": {
      "text/plain": [
       "['12032427',\n",
       " '12032236',\n",
       " '12031540',\n",
       " '12031521',\n",
       " '12031491',\n",
       " '12031341',\n",
       " '12031337',\n",
       " '12031321',\n",
       " '12031139',\n",
       " '12030940']"
      ]
     },
     "execution_count": 14,
     "metadata": {},
     "output_type": "execute_result"
    }
   ],
   "source": [
    "search3 = '(avian influenza) AND (outbreak)'\n",
    "\n",
    "pmcids = get_pmcids(search3, 10)\n",
    "pmcids"
   ]
  },
  {
   "cell_type": "code",
   "execution_count": 15,
   "id": "fb909221",
   "metadata": {},
   "outputs": [
    {
     "data": {
      "text/plain": [
       "['12032427',\n",
       " '12030858',\n",
       " '12010114',\n",
       " '12031396',\n",
       " '11998540',\n",
       " '11946100',\n",
       " '11944845',\n",
       " '11977947',\n",
       " '11882949',\n",
       " '11881443']"
      ]
     },
     "execution_count": 15,
     "metadata": {},
     "output_type": "execute_result"
    }
   ],
   "source": [
    "search4 = '(avian influenza[MeSH Terms]) AND (disease outbreak[MeSH Terms])'\n",
    "\n",
    "pmcids = get_pmcids(search4, 10)\n",
    "pmcids"
   ]
  }
 ],
 "metadata": {
  "kernelspec": {
   "display_name": "dis18",
   "language": "python",
   "name": "python3"
  },
  "language_info": {
   "codemirror_mode": {
    "name": "ipython",
    "version": 3
   },
   "file_extension": ".py",
   "mimetype": "text/x-python",
   "name": "python",
   "nbconvert_exporter": "python",
   "pygments_lexer": "ipython3",
   "version": "3.10.16"
  }
 },
 "nbformat": 4,
 "nbformat_minor": 5
}
