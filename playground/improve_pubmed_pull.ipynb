{
 "cells": [
  {
   "cell_type": "code",
   "execution_count": 3,
   "id": "e2f4ceea",
   "metadata": {},
   "outputs": [],
   "source": [
    "import requests\n",
    "import time\n",
    "import pandas as pd"
   ]
  },
  {
   "cell_type": "code",
   "execution_count": 6,
   "id": "405b2e19",
   "metadata": {},
   "outputs": [],
   "source": [
    "def get_pmcids(search_term, no_of_results):\n",
    "    search_url = \"https://eutils.ncbi.nlm.nih.gov/entrez/eutils/esearch.fcgi\"\n",
    "    params = {\n",
    "        # \"db\": \"pmc\",                                           # Source: https://www.ncbi.nlm.nih.gov/books/NBK25497/table/chapter2.T._entrez_unique_identifiers_ui/?report=objectonly\n",
    "        # \"term\": \"open access[filter]+\" + search_term,    # Source: https://pmc.ncbi.nlm.nih.gov/tools/openftlist/\n",
    "        \"db\": \"pubmed\",\n",
    "        \"term\": \"pubmed pmc open access[filter] AND \" + search_term,\n",
    "        \"retmode\": \"json\",                                      # Return format. Changed to XML\n",
    "        \"retmax\": no_of_results,                                # Number of results\n",
    "    }\n",
    "    response = requests.get(search_url, params=params)\n",
    "    time.sleep(0.34)                                     # Wait after request to respect API limit of 3 requests per second TODO: Add Source\n",
    "    if response.status_code == 200:\n",
    "        data = response.json()\n",
    "        return data[\"esearchresult\"][\"idlist\"]\n",
    "    else:\n",
    "        print(f\"Fehler bei der Anfrage für '{search_term}': {response.status_code}\")\n",
    "        return []"
   ]
  },
  {
   "cell_type": "code",
   "execution_count": 14,
   "id": "391c299c",
   "metadata": {},
   "outputs": [
    {
     "data": {
      "text/plain": [
       "{'header': {'type': 'esearch', 'version': '0.3'},\n",
       " 'esearchresult': {'count': '672',\n",
       "  'retmax': '10',\n",
       "  'retstart': '0',\n",
       "  'idlist': ['28915920',\n",
       "   '18455796',\n",
       "   '39535188',\n",
       "   '40145745',\n",
       "   '39053575',\n",
       "   '16566867',\n",
       "   '16253881',\n",
       "   '36958010',\n",
       "   '16277753',\n",
       "   '32687049'],\n",
       "  'translationset': [{'from': 'avian influenza[MeSH Terms]',\n",
       "    'to': '\"influenza in birds\"[MeSH Terms]'},\n",
       "   {'from': 'disease outbreak[MeSH Terms]',\n",
       "    'to': '\"disease outbreaks\"[MeSH Terms]'}],\n",
       "  'querytranslation': '\"pubmed pmc open access\"[Filter] AND \"influenza in birds\"[MeSH Terms] AND \"disease outbreaks\"[MeSH Terms]'}}"
      ]
     },
     "execution_count": 14,
     "metadata": {},
     "output_type": "execute_result"
    }
   ],
   "source": [
    "def get_json(search_term, no_of_results):\n",
    "    search_url = \"https://eutils.ncbi.nlm.nih.gov/entrez/eutils/esearch.fcgi\"\n",
    "    params = {\n",
    "        # \"db\": \"pmc\",                                           # Source: https://www.ncbi.nlm.nih.gov/books/NBK25497/table/chapter2.T._entrez_unique_identifiers_ui/?report=objectonly\n",
    "        # \"term\": \"open access[filter]+\" + search_term,    # Source: https://pmc.ncbi.nlm.nih.gov/tools/openftlist/\n",
    "        \"db\": \"pubmed\",\n",
    "        \"term\": \"pubmed pmc open access[filter] AND \" + search_term,\n",
    "        \"retmode\": \"json\",                                      # Return format. Changed to XML\n",
    "        \"retmax\": no_of_results,                                # Number of results\n",
    "        \"sort\": \"relevance\"\n",
    "    }\n",
    "    response = requests.get(search_url, params=params)\n",
    "    time.sleep(0.34)                                     # Wait after request to respect API limit of 3 requests per second TODO: Add Source\n",
    "    if response.status_code == 200:\n",
    "        data = response.json()\n",
    "        return data\n",
    "        # [\"esearchresult\"][\"idlist\"]\n",
    "    else:\n",
    "        print(f\"Fehler bei der Anfrage für '{search_term}': {response.status_code}\")\n",
    "        return []\n",
    "\n",
    "test = get_json('(avian influenza[MeSH Terms]) AND (disease outbreak[MeSH Terms])', 10)\n",
    "test"
   ]
  },
  {
   "cell_type": "code",
   "execution_count": null,
   "id": "1b8cb639",
   "metadata": {},
   "outputs": [],
   "source": []
  },
  {
   "cell_type": "code",
   "execution_count": 6,
   "id": "45b72e9e",
   "metadata": {},
   "outputs": [
    {
     "ename": "JSONDecodeError",
     "evalue": "Expecting value: line 1 column 1 (char 0)",
     "output_type": "error",
     "traceback": [
      "\u001b[1;31m---------------------------------------------------------------------------\u001b[0m",
      "\u001b[1;31mJSONDecodeError\u001b[0m                           Traceback (most recent call last)",
      "File \u001b[1;32mc:\\Users\\sebas\\miniconda3\\envs\\dis18\\lib\\site-packages\\requests\\models.py:974\u001b[0m, in \u001b[0;36mResponse.json\u001b[1;34m(self, **kwargs)\u001b[0m\n\u001b[0;32m    973\u001b[0m \u001b[38;5;28;01mtry\u001b[39;00m:\n\u001b[1;32m--> 974\u001b[0m     \u001b[38;5;28;01mreturn\u001b[39;00m complexjson\u001b[38;5;241m.\u001b[39mloads(\u001b[38;5;28mself\u001b[39m\u001b[38;5;241m.\u001b[39mtext, \u001b[38;5;241m*\u001b[39m\u001b[38;5;241m*\u001b[39mkwargs)\n\u001b[0;32m    975\u001b[0m \u001b[38;5;28;01mexcept\u001b[39;00m JSONDecodeError \u001b[38;5;28;01mas\u001b[39;00m e:\n\u001b[0;32m    976\u001b[0m     \u001b[38;5;66;03m# Catch JSON-related errors and raise as requests.JSONDecodeError\u001b[39;00m\n\u001b[0;32m    977\u001b[0m     \u001b[38;5;66;03m# This aliases json.JSONDecodeError and simplejson.JSONDecodeError\u001b[39;00m\n",
      "File \u001b[1;32mc:\\Users\\sebas\\miniconda3\\envs\\dis18\\lib\\json\\__init__.py:346\u001b[0m, in \u001b[0;36mloads\u001b[1;34m(s, cls, object_hook, parse_float, parse_int, parse_constant, object_pairs_hook, **kw)\u001b[0m\n\u001b[0;32m    343\u001b[0m \u001b[38;5;28;01mif\u001b[39;00m (\u001b[38;5;28mcls\u001b[39m \u001b[38;5;129;01mis\u001b[39;00m \u001b[38;5;28;01mNone\u001b[39;00m \u001b[38;5;129;01mand\u001b[39;00m object_hook \u001b[38;5;129;01mis\u001b[39;00m \u001b[38;5;28;01mNone\u001b[39;00m \u001b[38;5;129;01mand\u001b[39;00m\n\u001b[0;32m    344\u001b[0m         parse_int \u001b[38;5;129;01mis\u001b[39;00m \u001b[38;5;28;01mNone\u001b[39;00m \u001b[38;5;129;01mand\u001b[39;00m parse_float \u001b[38;5;129;01mis\u001b[39;00m \u001b[38;5;28;01mNone\u001b[39;00m \u001b[38;5;129;01mand\u001b[39;00m\n\u001b[0;32m    345\u001b[0m         parse_constant \u001b[38;5;129;01mis\u001b[39;00m \u001b[38;5;28;01mNone\u001b[39;00m \u001b[38;5;129;01mand\u001b[39;00m object_pairs_hook \u001b[38;5;129;01mis\u001b[39;00m \u001b[38;5;28;01mNone\u001b[39;00m \u001b[38;5;129;01mand\u001b[39;00m \u001b[38;5;129;01mnot\u001b[39;00m kw):\n\u001b[1;32m--> 346\u001b[0m     \u001b[38;5;28;01mreturn\u001b[39;00m \u001b[43m_default_decoder\u001b[49m\u001b[38;5;241;43m.\u001b[39;49m\u001b[43mdecode\u001b[49m\u001b[43m(\u001b[49m\u001b[43ms\u001b[49m\u001b[43m)\u001b[49m\n\u001b[0;32m    347\u001b[0m \u001b[38;5;28;01mif\u001b[39;00m \u001b[38;5;28mcls\u001b[39m \u001b[38;5;129;01mis\u001b[39;00m \u001b[38;5;28;01mNone\u001b[39;00m:\n",
      "File \u001b[1;32mc:\\Users\\sebas\\miniconda3\\envs\\dis18\\lib\\json\\decoder.py:337\u001b[0m, in \u001b[0;36mJSONDecoder.decode\u001b[1;34m(self, s, _w)\u001b[0m\n\u001b[0;32m    333\u001b[0m \u001b[38;5;250m\u001b[39m\u001b[38;5;124;03m\"\"\"Return the Python representation of ``s`` (a ``str`` instance\u001b[39;00m\n\u001b[0;32m    334\u001b[0m \u001b[38;5;124;03mcontaining a JSON document).\u001b[39;00m\n\u001b[0;32m    335\u001b[0m \n\u001b[0;32m    336\u001b[0m \u001b[38;5;124;03m\"\"\"\u001b[39;00m\n\u001b[1;32m--> 337\u001b[0m obj, end \u001b[38;5;241m=\u001b[39m \u001b[38;5;28;43mself\u001b[39;49m\u001b[38;5;241;43m.\u001b[39;49m\u001b[43mraw_decode\u001b[49m\u001b[43m(\u001b[49m\u001b[43ms\u001b[49m\u001b[43m,\u001b[49m\u001b[43m \u001b[49m\u001b[43midx\u001b[49m\u001b[38;5;241;43m=\u001b[39;49m\u001b[43m_w\u001b[49m\u001b[43m(\u001b[49m\u001b[43ms\u001b[49m\u001b[43m,\u001b[49m\u001b[43m \u001b[49m\u001b[38;5;241;43m0\u001b[39;49m\u001b[43m)\u001b[49m\u001b[38;5;241;43m.\u001b[39;49m\u001b[43mend\u001b[49m\u001b[43m(\u001b[49m\u001b[43m)\u001b[49m\u001b[43m)\u001b[49m\n\u001b[0;32m    338\u001b[0m end \u001b[38;5;241m=\u001b[39m _w(s, end)\u001b[38;5;241m.\u001b[39mend()\n",
      "File \u001b[1;32mc:\\Users\\sebas\\miniconda3\\envs\\dis18\\lib\\json\\decoder.py:355\u001b[0m, in \u001b[0;36mJSONDecoder.raw_decode\u001b[1;34m(self, s, idx)\u001b[0m\n\u001b[0;32m    354\u001b[0m \u001b[38;5;28;01mexcept\u001b[39;00m \u001b[38;5;167;01mStopIteration\u001b[39;00m \u001b[38;5;28;01mas\u001b[39;00m err:\n\u001b[1;32m--> 355\u001b[0m     \u001b[38;5;28;01mraise\u001b[39;00m JSONDecodeError(\u001b[38;5;124m\"\u001b[39m\u001b[38;5;124mExpecting value\u001b[39m\u001b[38;5;124m\"\u001b[39m, s, err\u001b[38;5;241m.\u001b[39mvalue) \u001b[38;5;28;01mfrom\u001b[39;00m \u001b[38;5;28;01mNone\u001b[39;00m\n\u001b[0;32m    356\u001b[0m \u001b[38;5;28;01mreturn\u001b[39;00m obj, end\n",
      "\u001b[1;31mJSONDecodeError\u001b[0m: Expecting value: line 1 column 1 (char 0)",
      "\nDuring handling of the above exception, another exception occurred:\n",
      "\u001b[1;31mJSONDecodeError\u001b[0m                           Traceback (most recent call last)",
      "Cell \u001b[1;32mIn[6], line 30\u001b[0m\n\u001b[0;32m     27\u001b[0m url \u001b[38;5;241m=\u001b[39m \u001b[38;5;124m\"\u001b[39m\u001b[38;5;124mhttps://eutils.ncbi.nlm.nih.gov/entrez/eutils/esummary.fcgi\u001b[39m\u001b[38;5;124m\"\u001b[39m\n\u001b[0;32m     29\u001b[0m response \u001b[38;5;241m=\u001b[39m requests\u001b[38;5;241m.\u001b[39mget(url)\n\u001b[1;32m---> 30\u001b[0m data \u001b[38;5;241m=\u001b[39m \u001b[43mresponse\u001b[49m\u001b[38;5;241;43m.\u001b[39;49m\u001b[43mjson\u001b[49m\u001b[43m(\u001b[49m\u001b[43m)\u001b[49m\n\u001b[0;32m     32\u001b[0m \u001b[38;5;66;03m# Zugriff auf PMCID (falls vorhanden)\u001b[39;00m\n\u001b[0;32m     33\u001b[0m doc \u001b[38;5;241m=\u001b[39m data[\u001b[38;5;124m'\u001b[39m\u001b[38;5;124mresult\u001b[39m\u001b[38;5;124m'\u001b[39m][pmid]\n",
      "File \u001b[1;32mc:\\Users\\sebas\\miniconda3\\envs\\dis18\\lib\\site-packages\\requests\\models.py:978\u001b[0m, in \u001b[0;36mResponse.json\u001b[1;34m(self, **kwargs)\u001b[0m\n\u001b[0;32m    974\u001b[0m     \u001b[38;5;28;01mreturn\u001b[39;00m complexjson\u001b[38;5;241m.\u001b[39mloads(\u001b[38;5;28mself\u001b[39m\u001b[38;5;241m.\u001b[39mtext, \u001b[38;5;241m*\u001b[39m\u001b[38;5;241m*\u001b[39mkwargs)\n\u001b[0;32m    975\u001b[0m \u001b[38;5;28;01mexcept\u001b[39;00m JSONDecodeError \u001b[38;5;28;01mas\u001b[39;00m e:\n\u001b[0;32m    976\u001b[0m     \u001b[38;5;66;03m# Catch JSON-related errors and raise as requests.JSONDecodeError\u001b[39;00m\n\u001b[0;32m    977\u001b[0m     \u001b[38;5;66;03m# This aliases json.JSONDecodeError and simplejson.JSONDecodeError\u001b[39;00m\n\u001b[1;32m--> 978\u001b[0m     \u001b[38;5;28;01mraise\u001b[39;00m RequestsJSONDecodeError(e\u001b[38;5;241m.\u001b[39mmsg, e\u001b[38;5;241m.\u001b[39mdoc, e\u001b[38;5;241m.\u001b[39mpos)\n",
      "\u001b[1;31mJSONDecodeError\u001b[0m: Expecting value: line 1 column 1 (char 0)"
     ]
    }
   ],
   "source": [
    "import requests\n",
    "\n",
    "# def translate_pmid_to_pmcid(pmid):\n",
    "#     url = \"https://eutils.ncbi.nlm.nih.gov/entrez/eutils/esummary.fcgi\"\n",
    "#     params = {\n",
    "#         \"db\":\"pubmed\",\n",
    "#         \"id\": pmid,\n",
    "#         \"retmode\":\"json\"\n",
    "\n",
    "#     }\n",
    "#     # db=pubmed&id={pmid}&retmode=json\"\n",
    "#     response = requests.get(url)\n",
    "#     data = response.json()\n",
    "#     doc = data['result'][pmid]\n",
    "#     pmcid = doc.get(\"articleids\", [])\n",
    "#     for id_obj in pmcid:\n",
    "#         if id_obj[\"idtype\"] == \"pmc\":\n",
    "#             return id_obj[\"value\"]\n",
    "\n",
    "# t = translate_pmid_to_pmcid(\"33053381\")\n",
    "# t\n",
    "\n",
    "\n",
    "\n",
    "pmid = \"40285026\"  # Beispiel-PMID\n",
    "\n",
    "url = \"https://eutils.ncbi.nlm.nih.gov/entrez/eutils/esummary.fcgi\"\n",
    "\n",
    "response = requests.get(url)\n",
    "data = response.json()\n",
    "\n",
    "# Zugriff auf PMCID (falls vorhanden)\n",
    "doc = data['result'][pmid]\n",
    "pmcid = doc.get(\"articleids\", [])\n",
    "\n",
    "# Extrahiere explizit PMCID\n",
    "for id_obj in pmcid:\n",
    "    if id_obj[\"idtype\"] == \"pmc\":\n",
    "        print(\"PMCID:\", id_obj[\"value\"])\n"
   ]
  },
  {
   "cell_type": "code",
   "execution_count": 7,
   "id": "f37706fb",
   "metadata": {},
   "outputs": [
    {
     "name": "stdout",
     "output_type": "stream",
     "text": [
      "PMCID: PMC12031089\n"
     ]
    }
   ],
   "source": [
    "import requests\n",
    "\n",
    "def translate_pmid_to_pmcid(pmid):\n",
    "    url = \"https://eutils.ncbi.nlm.nih.gov/entrez/eutils/esummary.fcgi\"\n",
    "    params = {\n",
    "        \"db\": \"pubmed\",\n",
    "        \"id\": pmid,\n",
    "        \"retmode\": \"json\"\n",
    "    }\n",
    "    \n",
    "    response = requests.get(url, params=params)\n",
    "\n",
    "    # Falls die Antwort leer oder fehlerhaft ist\n",
    "    if response.status_code != 200:\n",
    "        print(f\"Fehler beim Abruf: {response.status_code}\")\n",
    "        return None\n",
    "    \n",
    "    try:\n",
    "        data = response.json()\n",
    "    except Exception as e:\n",
    "        print(\"JSON konnte nicht geladen werden:\", e)\n",
    "        print(\"Antwortinhalt:\", response.text)\n",
    "        return None\n",
    "\n",
    "    doc = data[\"result\"].get(pmid)\n",
    "    if not doc:\n",
    "        print(\"Keine Daten für PMID gefunden.\")\n",
    "        return None\n",
    "\n",
    "    article_ids = doc.get(\"articleids\", [])\n",
    "    for id_obj in article_ids:\n",
    "        if id_obj[\"idtype\"] == \"pmc\":\n",
    "            return id_obj[\"value\"]\n",
    "    print(\"Kein PMCID gefunden.\")\n",
    "    return None\n",
    "\n",
    "# Beispiel\n",
    "pmid = \"40285026\"\n",
    "pmcid = translate_pmid_to_pmcid(pmid)\n",
    "print(\"PMCID:\", pmcid)\n"
   ]
  },
  {
   "cell_type": "code",
   "execution_count": null,
   "id": "2657ef98",
   "metadata": {},
   "outputs": [],
   "source": [
    "import requests\n",
    "from xml.etree import ElementTree as ET\n",
    "\n",
    "# Abstract\n",
    "\n",
    "pmid = \"34816252\"  # Beispielhafte PubMed-ID\n",
    "url = f\"https://eutils.ncbi.nlm.nih.gov/entrez/eutils/efetch.fcgi\"\n",
    "params = {\n",
    "    \"db\": \"pubmed\",\n",
    "    \"id\": pmid,\n",
    "    \"retmode\": \"xml\"\n",
    "}\n",
    "\n",
    "response = requests.get(url, params=params)\n",
    "root = ET.fromstring(response.text)\n",
    "\n",
    "# Extrahiere den Abstract\n",
    "abstract_texts = root.findall(\".//AbstractText\")\n",
    "abstract = \" \".join(elem.text for elem in abstract_texts if elem.text)\n",
    "\n",
    "print(\"Abstract:\", abstract)\n"
   ]
  },
  {
   "cell_type": "code",
   "execution_count": 7,
   "id": "7abba18f",
   "metadata": {},
   "outputs": [
    {
     "data": {
      "text/plain": [
       "['40285026',\n",
       " '40285016',\n",
       " '40284978',\n",
       " '40284893',\n",
       " '40279164',\n",
       " '40278010',\n",
       " '40256930',\n",
       " '40255978',\n",
       " '40253358',\n",
       " '40251629']"
      ]
     },
     "execution_count": 7,
     "metadata": {},
     "output_type": "execute_result"
    }
   ],
   "source": [
    "search1 = 'avian influenza outbreak'\n",
    "\n",
    "pmcids = get_pmcids(search1, 10)\n",
    "pmcids"
   ]
  },
  {
   "cell_type": "code",
   "execution_count": 13,
   "id": "aed29a6d",
   "metadata": {},
   "outputs": [
    {
     "data": {
      "text/plain": [
       "['12032427',\n",
       " '12032236',\n",
       " '12031540',\n",
       " '12031521',\n",
       " '12031341',\n",
       " '12031337',\n",
       " '12031321',\n",
       " '12030940',\n",
       " '12030858',\n",
       " '12030792']"
      ]
     },
     "execution_count": 13,
     "metadata": {},
     "output_type": "execute_result"
    }
   ],
   "source": [
    "search2 = '\"avian influenza\" AND (outbreak)'\n",
    "\n",
    "pmcids = get_pmcids(search2, 10)\n",
    "pmcids"
   ]
  },
  {
   "cell_type": "code",
   "execution_count": 14,
   "id": "0159934d",
   "metadata": {},
   "outputs": [
    {
     "data": {
      "text/plain": [
       "['12032427',\n",
       " '12032236',\n",
       " '12031540',\n",
       " '12031521',\n",
       " '12031491',\n",
       " '12031341',\n",
       " '12031337',\n",
       " '12031321',\n",
       " '12031139',\n",
       " '12030940']"
      ]
     },
     "execution_count": 14,
     "metadata": {},
     "output_type": "execute_result"
    }
   ],
   "source": [
    "search3 = '(avian influenza) AND (outbreak)'\n",
    "\n",
    "pmcids = get_pmcids(search3, 10)\n",
    "pmcids"
   ]
  },
  {
   "cell_type": "code",
   "execution_count": 15,
   "id": "fb909221",
   "metadata": {},
   "outputs": [
    {
     "data": {
      "text/plain": [
       "['12032427',\n",
       " '12030858',\n",
       " '12010114',\n",
       " '12031396',\n",
       " '11998540',\n",
       " '11946100',\n",
       " '11944845',\n",
       " '11977947',\n",
       " '11882949',\n",
       " '11881443']"
      ]
     },
     "execution_count": 15,
     "metadata": {},
     "output_type": "execute_result"
    }
   ],
   "source": [
    "search4 = '(avian influenza[MeSH Terms]) AND (disease outbreak[MeSH Terms])'\n",
    "\n",
    "pmcids = get_pmcids(search4, 10)\n",
    "pmcids"
   ]
  }
 ],
 "metadata": {
  "kernelspec": {
   "display_name": "dis18",
   "language": "python",
   "name": "python3"
  },
  "language_info": {
   "codemirror_mode": {
    "name": "ipython",
    "version": 3
   },
   "file_extension": ".py",
   "mimetype": "text/x-python",
   "name": "python",
   "nbconvert_exporter": "python",
   "pygments_lexer": "ipython3",
   "version": "3.10.16"
  }
 },
 "nbformat": 4,
 "nbformat_minor": 5
}
