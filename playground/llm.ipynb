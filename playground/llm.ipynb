{
 "cells": [
  {
   "cell_type": "markdown",
   "metadata": {},
   "source": [
    "## Erster Test des lokalen LLM"
   ]
  },
  {
   "cell_type": "code",
   "execution_count": 7,
   "metadata": {},
   "outputs": [],
   "source": [
    "import sys\n",
    "import os\n",
    "\n",
    "sys.path.append(os.path.abspath(\"..\"))\n",
    "\n",
    "from final_code.pubmed_api import pubmed_api_pull\n",
    "import requests\n"
   ]
  },
  {
   "cell_type": "code",
   "execution_count": 9,
   "metadata": {},
   "outputs": [
    {
     "name": "stdout",
     "output_type": "stream",
     "text": [
      " Die Erde ist ungefähr 4,6 Milliarden Jahre alt. Diese Zahl basiert auf dem uran-lead-Alter des Hedeynit-Meteoriten, der von der Erde stammen soll und ursprünglich zu den Asteroiden gehörte. Dies ist ein gebräuchliches Datum zur Abschätzung des Alters unseres Planeten. Es gibt jedoch alternative Theorien über das Alter der Erde, die bis zu einer Alter von 10 Milliarden Jahre reichen.\n"
     ]
    }
   ],
   "source": [
    "def ask_mistral(prompt):\n",
    "    response = requests.post(\n",
    "        \"http://localhost:11434/api/generate\",\n",
    "        json={\n",
    "            \"model\": \"mistral\",  # Name des installierten Modells\n",
    "            \"prompt\": prompt,\n",
    "            \"stream\": False\n",
    "        }\n",
    "    )\n",
    "    return response.json()[\"response\"]\n",
    "\n",
    "# Beispiel:\n",
    "antwort = ask_mistral(\"Wie alt ist die Erde?\")\n",
    "# Ausgabe der Antwort\n",
    "print(antwort)"
   ]
  },
  {
   "cell_type": "markdown",
   "metadata": {},
   "source": [
    "## Code mit Connection-Check"
   ]
  },
  {
   "cell_type": "code",
   "execution_count": null,
   "metadata": {},
   "outputs": [],
   "source": [
    "import requests\n",
    "\n",
    "def check_connection():\n",
    "    \"\"\"Prüft ob Ollama-Server läuft (Timeout 3 Sekunden)\"\"\"\n",
    "    try:\n",
    "        return requests.get(\"http://localhost:11434/api/tags\", timeout=3).ok\n",
    "    except:\n",
    "        return False\n",
    "\n",
    "def ask_mistral(prompt):\n",
    "    if not check_connection():\n",
    "        raise ConnectionError(\"Ollama-Server nicht erreichbar (localhost:11434)\")\n",
    "    \n",
    "    response = requests.post(\n",
    "        \"http://localhost:11434/api/generate\",\n",
    "        json={\n",
    "            \"model\": \"mistral\",\n",
    "            \"prompt\": prompt,\n",
    "            \"stream\": False\n",
    "        }\n",
    "    )\n",
    "    return response.json()[\"response\"]\n",
    "\n",
    "# Beispiel mit integriertem Check:\n",
    "if check_connection():\n",
    "    print(ask_mistral(\"What is avian influenza?\"))\n",
    "else:\n",
    "    print(\"Fehler: Ollama nicht gestartet oder Port 11434 blockiert\")"
   ]
  },
  {
   "cell_type": "code",
   "execution_count": null,
   "metadata": {},
   "outputs": [],
   "source": [
    "search = [\"avian influenza outbreak\"]\n",
    "no = 20\n",
    "\n",
    "df = pubmed_api_pull(search, no)"
   ]
  },
  {
   "cell_type": "code",
   "execution_count": null,
   "metadata": {},
   "outputs": [],
   "source": [
    "text = df.loc[0,'full_text']\n",
    "print(text)"
   ]
  },
  {
   "cell_type": "code",
   "execution_count": 10,
   "metadata": {},
   "outputs": [
    {
     "name": "stdout",
     "output_type": "stream",
     "text": [
      "1. Was gab es ausgebrochen? (Was was there an outbreak of?) - There was no specific outbreak mentioned in the text, but it refers to Avian Influenza A(H5N1).\n",
      "\n",
      "2. Where? (Wo?) - The study was conducted among individuals in contact with domestic and/or wild birds in the UK.\n",
      "\n",
      "3. How many people were affected? (Wie viele Leute waren betroffen?) - No specific number of people affected by the outbreak was mentioned in the text. However, it mentions that data collected will be used to describe the contact patterns of individuals in contact with birds, which can help inform mathematical models of transmission.\n",
      "\n",
      "4. When? (Wann?) - The study was conducted between May and July 2024.\n"
     ]
    }
   ],
   "source": [
    "prompt = \"\"\"Du bist ein KI-gestütztes Analysetool, das wissenschaftliche Texte untersucht, um Informationen über Krankheitsausbrüche zu extrahieren. Deine Aufgabe ist es, relevante Informationen aus dem bereitgestellten Text präzise und strukturiert wiederzugeben.\n",
    "\n",
    "User Prompt:\n",
    "Lies den folgenden Text und beantworte die Fragen:\n",
    "\n",
    "    Gab es einen Ausbruch dieser Krankheit? (Ja/Nein)\n",
    "\n",
    "    Falls ja, wo fand der Ausbruch statt? (Ort oder Region angeben)\n",
    "\n",
    "    Wie viele Menschen waren betroffen? (Anzahl der Fälle, falls vorhanden)\n",
    "\n",
    "    Wann war der Ausbruch? (Datum oder Zeitraum)\n",
    "\n",
    "Falls eine Information nicht im Text vorhanden ist, gib „Nicht angegeben“ aus. Hier der Text: \"\"\" + text + \"\"\"Antwort:\n",
    "\n",
    "    Gab es einen Ausbruch? → [...]\n",
    "\n",
    "    Wo? → [...]\n",
    "\n",
    "    Wie viele Leute waren betroffen? → [...]\n",
    "\n",
    "    Wann? → [...]\"\"\"\n",
    "\n",
    "antwort = ask_mistral(prompt)\n",
    "print(antwort)"
   ]
  }
 ],
 "metadata": {
  "kernelspec": {
   "display_name": "dis18",
   "language": "python",
   "name": "python3"
  },
  "language_info": {
   "codemirror_mode": {
    "name": "ipython",
    "version": 3
   },
   "file_extension": ".py",
   "mimetype": "text/x-python",
   "name": "python",
   "nbconvert_exporter": "python",
   "pygments_lexer": "ipython3",
   "version": "3.10.16"
  }
 },
 "nbformat": 4,
 "nbformat_minor": 2
}
