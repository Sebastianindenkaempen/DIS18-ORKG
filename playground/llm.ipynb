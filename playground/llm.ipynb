{
 "cells": [
  {
   "cell_type": "markdown",
   "metadata": {},
   "source": [
    "## Erster Test des lokalen LLM"
   ]
  },
  {
   "cell_type": "code",
   "execution_count": 2,
   "metadata": {},
   "outputs": [],
   "source": [
    "import sys\n",
    "import os\n",
    "\n",
    "sys.path.append(os.path.abspath(\"..\"))\n",
    "\n",
    "from final_code.pubmed_api import pubmed_api_pull\n",
    "import requests\n"
   ]
  },
  {
   "cell_type": "code",
   "execution_count": 9,
   "metadata": {},
   "outputs": [
    {
     "name": "stdout",
     "output_type": "stream",
     "text": [
      " Die Erde ist ungefähr 4,6 Milliarden Jahre alt. Diese Zahl basiert auf dem uran-lead-Alter des Hedeynit-Meteoriten, der von der Erde stammen soll und ursprünglich zu den Asteroiden gehörte. Dies ist ein gebräuchliches Datum zur Abschätzung des Alters unseres Planeten. Es gibt jedoch alternative Theorien über das Alter der Erde, die bis zu einer Alter von 10 Milliarden Jahre reichen.\n"
     ]
    }
   ],
   "source": [
    "def ask_mistral(prompt):\n",
    "    response = requests.post(\n",
    "        \"http://localhost:11434/api/generate\",\n",
    "        json={\n",
    "            \"model\": \"mistral\",  # Name des installierten Modells\n",
    "            \"prompt\": prompt,\n",
    "            \"stream\": False\n",
    "        }\n",
    "    )\n",
    "    return response.json()[\"response\"]\n",
    "\n",
    "# Beispiel:\n",
    "antwort = ask_mistral(\"Wie alt ist die Erde?\")\n",
    "# Ausgabe der Antwort\n",
    "print(antwort)"
   ]
  },
  {
   "cell_type": "markdown",
   "metadata": {},
   "source": [
    "## Code mit Connection-Check"
   ]
  },
  {
   "cell_type": "code",
   "execution_count": null,
   "metadata": {},
   "outputs": [],
   "source": [
    "import requests\n",
    "\n",
    "def check_connection():\n",
    "    \"\"\"Prüft ob Ollama-Server läuft (Timeout 3 Sekunden)\"\"\"\n",
    "    try:\n",
    "        return requests.get(\"http://localhost:11434/api/tags\", timeout=3).ok\n",
    "    except:\n",
    "        return False\n",
    "\n",
    "def ask_mistral(prompt):\n",
    "    if not check_connection():\n",
    "        raise ConnectionError(\"Ollama-Server nicht erreichbar (localhost:11434)\")\n",
    "    \n",
    "    response = requests.post(\n",
    "        \"http://localhost:11434/api/generate\",\n",
    "        json={\n",
    "            \"model\": \"mistral\",\n",
    "            \"prompt\": prompt,\n",
    "            \"stream\": False\n",
    "        }\n",
    "    )\n",
    "    return response.json()[\"response\"]\n",
    "\n",
    "# Beispiel mit integriertem Check:\n",
    "if check_connection():\n",
    "    print(ask_mistral(\"What is avian influenza?\"))\n",
    "else:\n",
    "    print(\"Fehler: Ollama nicht gestartet oder Port 11434 blockiert\")"
   ]
  },
  {
   "cell_type": "code",
   "execution_count": null,
   "metadata": {},
   "outputs": [],
   "source": [
    "search = [\"avian influenza outbreak\"]\n",
    "no = 20\n",
    "\n",
    "df = pubmed_api_pull(search, no)"
   ]
  },
  {
   "cell_type": "code",
   "execution_count": 14,
   "metadata": {},
   "outputs": [
    {
     "name": "stdout",
     "output_type": "stream",
     "text": [
      "1 Public health strategies for avian influenza mitigation To effectively mitigate this public health threat, enhanced surveillance of poultry and human populations is critical for early detection and containment of outbreaks, including. • Wastewater Surveillance: Employed in the United States to detect avian influenza A(H5N1) virus by analysing wastewater samples for viral RNA, facilitating early outbreak detection [ 5 ]. • Vaccination of Poultry: Implemented globally to reduce AI transmission among birds and minimise interspecies spread\n",
      "2 Strengthening cross-border cooperation Cross-border collaboration with Pakistan, Bangladesh, and Nepal can facilitate the exchange of surveillance data, harmonise control measures, and manage poultry trade to prevent the spread of avian influenza.\n",
      "3 Public awareness initiatives • Community Workshops: Educating poultry farmers and handlers on avian influenza symptoms and biosecurity measures. • Mass Media Campaigns: Using television, radio, and social media to spread awareness. • School Programs: Incorporating avian influenza education into school curricula.\n",
      "4 Role of the indian government The Indian government has implemented key measures. • National Action Plan: The Department of Animal Husbandry and Dairying (DAHD) formulated the \"National Action Plan for Prevention, Control, and Containment of Avian Influenza 2021″ • Surveillance and Monitoring: Ongoing poultry monitoring, especially in border regions and migratory bird areas • Research and Development: The Indian Council of Agricultural Research (ICAR) is working on AI vaccines and diagnostics\n",
      "5 Novel strategies for enhanced response • Cross-Sectoral Simulation Exercises: Conduct mock drills involving public health, veterinary, and wildlife sectors to assess and improve outbreak response. • Community-Based Surveillance: Engaging local communities in reporting unusual bird deaths or illnesses for early detection.\n",
      "6 Conclusion A coordinated approach involving swift case identification, rigorous surveillance, and effective communication is crucial for containing avian influenza outbreaks in India. Implementing these measures will safeguard public health and contribute to global zoonotic disease mitigation efforts.\n",
      "CRediT authorship contribution statement Eman Riaz: Writing – review & editing, Writing – original draft, Visualization, Validation, Formal analysis, Data curation, Conceptualization. Maria Riaz: Writing – original draft, Visualization, Validation, Conceptualization. Muneeba Ali: Validation, Visualization, Writing – original draft. Stephen Awogbami: Writing – review & editing, Funding acquisition. Oforkansi Chioma Linda: Writing – review & editing, Funding acquisition. Malik Olatunde Oduoye: Writing – review & editing, Visualization, Validation, Supervision, Software, Formal analysis, Conceptualization.\n",
      "Provenance and peer review Not commissioned, externally peer-reviewed.\n",
      "Ethics approval and consent for participation Not applicable.\n",
      "Declaration of generative AI and AI-assisted technologies in the writing process There is nothing to disclose.\n",
      "Funding The authors did not receive any financial support for this work.\n",
      "Declaration of competing interest The authors declare that they have no known competing financial interests or personal relationships that could have appeared to influence the work reported in this paper.\n"
     ]
    }
   ],
   "source": [
    "text = df.loc[1,'full_text']\n",
    "print(text)"
   ]
  },
  {
   "cell_type": "code",
   "execution_count": 10,
   "metadata": {},
   "outputs": [
    {
     "name": "stdout",
     "output_type": "stream",
     "text": [
      "1. Was gab es ausgebrochen? (Was was there an outbreak of?) - There was no specific outbreak mentioned in the text, but it refers to Avian Influenza A(H5N1).\n",
      "\n",
      "2. Where? (Wo?) - The study was conducted among individuals in contact with domestic and/or wild birds in the UK.\n",
      "\n",
      "3. How many people were affected? (Wie viele Leute waren betroffen?) - No specific number of people affected by the outbreak was mentioned in the text. However, it mentions that data collected will be used to describe the contact patterns of individuals in contact with birds, which can help inform mathematical models of transmission.\n",
      "\n",
      "4. When? (Wann?) - The study was conducted between May and July 2024.\n"
     ]
    }
   ],
   "source": [
    "prompt = \"\"\"Du bist ein KI-gestütztes Analysetool, das wissenschaftliche Texte untersucht, um Informationen über Krankheitsausbrüche zu extrahieren. Deine Aufgabe ist es, relevante Informationen aus dem bereitgestellten Text präzise und strukturiert wiederzugeben.\n",
    "\n",
    "User Prompt:\n",
    "Lies den folgenden Text und beantworte die Fragen:\n",
    "\n",
    "    Gab es einen Ausbruch dieser Krankheit? (Ja/Nein)\n",
    "\n",
    "    Falls ja, wo fand der Ausbruch statt? (Ort oder Region angeben)\n",
    "\n",
    "    Wie viele Menschen waren betroffen? (Anzahl der Fälle, falls vorhanden)\n",
    "\n",
    "    Wann war der Ausbruch? (Datum oder Zeitraum)\n",
    "\n",
    "Falls eine Information nicht im Text vorhanden ist, gib „Nicht angegeben“ aus. Hier der Text: \"\"\" + text + \"\"\"Antwort:\n",
    "\n",
    "    Gab es einen Ausbruch? → [...]\n",
    "\n",
    "    Wo? → [...]\n",
    "\n",
    "    Wie viele Leute waren betroffen? → [...]\n",
    "\n",
    "    Wann? → [...]\"\"\"\n",
    "\n",
    "antwort = ask_mistral(prompt)\n",
    "print(antwort)"
   ]
  },
  {
   "cell_type": "code",
   "execution_count": null,
   "metadata": {},
   "outputs": [],
   "source": [
    "def ask_mistral(prompt):\n",
    "    response = requests.post(\n",
    "        \"http://localhost:11434/api/generate\",\n",
    "        json={\n",
    "            \"model\": \"llama3.2\",  # Name des installierten Modells\n",
    "            \"prompt\": prompt,\n",
    "            \"stream\": False\n",
    "        }\n",
    "    )\n",
    "    return response.json()[\"response\"]\n",
    "\n",
    "antwort = ask_mistral(prompt)\n",
    "print(antwort)"
   ]
  },
  {
   "cell_type": "code",
   "execution_count": 16,
   "metadata": {},
   "outputs": [
    {
     "name": "stdout",
     "output_type": "stream",
     "text": [
      "Based on the input, I cannot conclude that a disease outbreak has occurred. The text appears to be nonsensical and does not contain any relevant information about a disease outbreak.\n",
      "\n",
      "Therefore, I will return 'False'.\n"
     ]
    }
   ],
   "source": [
    "text = \"there was an outbreak on july 1 in london. 20 People affected\"\n",
    "text2 = \"BLALALALALALA\"\n",
    "\n",
    "\n",
    "def check_if_text_has_outbreak(text):\n",
    "    response = requests.post(\n",
    "        \"http://localhost:11434/api/generate\",\n",
    "        json={\n",
    "            \"model\": \"llama3.2\",\n",
    "            \"prompt\": \n",
    "                \"\"\"You will receive a text below. \n",
    "                I want you to analyze whether a disease outbreak has occurred. If an outbreak is detected, return 'True'; otherwise, return 'False'. \n",
    "                Here is the text:\"\"\" + text,\n",
    "            \"stream\": False\n",
    "        }\n",
    "    )\n",
    "    return response.json()[\"response\"]\n",
    "\n",
    "def extract_outbreak_place(text):\n",
    "    response = requests.post(\n",
    "        \"http://localhost:11434/api/generate\",\n",
    "        json={\n",
    "            \"model\": \"mistral\",\n",
    "            \"prompt\": \n",
    "                \"\"\"Im folgenden erhältst du einen Text. Bitte untersuche diesen Text daraufhin an welchem Ort es einen Ausbruch\n",
    "                 der Krankheit gegeben hat. Gib bitte ausschließlich den Ort zurück. Wenn es mehrere Ort gibt, gib sie mit\n",
    "                  einem Semikolon getrennt an. Wenn kein Ort spezifiziert ist gib bitte N/A zurück. Hier der Text: \"\"\" + text,\n",
    "            \"stream\": False\n",
    "        }\n",
    "    )\n",
    "    return response.json()[\"response\"]\n",
    "\n",
    "def extract_outbreak_time(text):\n",
    "    response = requests.post(\n",
    "        \"http://localhost:11434/api/generate\",\n",
    "        json={\n",
    "            \"model\": \"mistral\",\n",
    "            \"prompt\": \n",
    "                \"\"\"Im folgenden erhältst du einen Text. Bitte untersuche diesen Text daraufhin zu welchem Zeitpunkt es einen Ausbruch\n",
    "                 der Krankheit gegeben hat. Zeitpunkte können bestimmte Tage, bestimmte Monage oder Wochen sein. Gib bitte immer den Monat oder\n",
    "                 die Woche zusammen mit dem Jahr (falls vorhanden)\n",
    "                 Gib bitte ausschließlich den Zeitpunkt zurück. Wenn es mehrere Zeitpunkte gibt, gib sie mit\n",
    "                  einem Semikolon getrennt an. Wenn kein Zeitpunkt spezifiziert ist gib bitte N/A zurück. Hier der Text: \"\"\" + text,\n",
    "            \"stream\": False\n",
    "        }\n",
    "    )\n",
    "    return response.json()[\"response\"]\n",
    "\n",
    "\n",
    "answer = check_if_text_has_outbreak(text2)\n",
    "print(answer)"
   ]
  }
 ],
 "metadata": {
  "kernelspec": {
   "display_name": "dis18",
   "language": "python",
   "name": "python3"
  },
  "language_info": {
   "codemirror_mode": {
    "name": "ipython",
    "version": 3
   },
   "file_extension": ".py",
   "mimetype": "text/x-python",
   "name": "python",
   "nbconvert_exporter": "python",
   "pygments_lexer": "ipython3",
   "version": "3.10.16"
  }
 },
 "nbformat": 4,
 "nbformat_minor": 2
}
