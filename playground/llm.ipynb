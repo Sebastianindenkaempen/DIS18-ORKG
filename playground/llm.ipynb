{
 "cells": [
  {
   "cell_type": "markdown",
   "metadata": {},
   "source": [
    "## Erster Test des lokalen LLM"
   ]
  },
  {
   "cell_type": "code",
   "execution_count": 1,
   "metadata": {},
   "outputs": [
    {
     "name": "stdout",
     "output_type": "stream",
     "text": [
      " Die Erde wurde rund 4,6 Milliarden Jahre alt geschätzt. Diese Schätzung basiert auf verschiedenen Methoden der Altersbestimmung, wie z.B. der Radiometrischen Datierung von Mineralien und Gesteinen in der Erdkruste.\n"
     ]
    }
   ],
   "source": [
    "import requests\n",
    "\n",
    "def ask_mistral(prompt):\n",
    "    response = requests.post(\n",
    "        \"http://localhost:11434/api/generate\",\n",
    "        json={\n",
    "            \"model\": \"mistral\",  # Name des installierten Modells\n",
    "            \"prompt\": prompt,\n",
    "            \"stream\": False\n",
    "        }\n",
    "    )\n",
    "    return response.json()[\"response\"]\n",
    "\n",
    "# Beispiel:\n",
    "antwort = ask_mistral(\"Wie alt ist die Erde?\")\n",
    "# Ausgabe der Antwort\n",
    "print(antwort)\n"
   ]
  },
  {
   "cell_type": "markdown",
   "metadata": {},
   "source": [
    "## Code mit Connection-Check"
   ]
  },
  {
   "cell_type": "code",
   "execution_count": 7,
   "metadata": {},
   "outputs": [
    {
     "name": "stdout",
     "output_type": "stream",
     "text": [
      " Avian influenza, also known as bird flu, is a type of influenza virus that primarily affects birds. There are many different strains of avian influenza viruses, some of which can infect humans and cause disease. The most dangerous strains for humans are H5N1, H7N9, and H1N1 (swine-origin influenza A virus) which has pandemic potential if it were to mutate further in a way that enables efficient human-to-human transmission.\n",
      "\n",
      "Avian influenza viruses do not typically cause illness in humans unless there is close contact with infected birds or contaminated environments, such as poultry farms or live bird markets. However, when these viruses infect people, they can lead to serious respiratory illnesses and even death. It's important to note that avian influenza does not make a person into a carrier of the virus like some other diseases do.\n",
      "\n",
      "Preventative measures for avian influenza include avoiding contact with sick or dead poultry, properly cooking poultry products, and practicing good hygiene when handling birds or their feces. Public health agencies monitor avian influenza outbreaks in birds closely and may recommend restrictions on poultry movement or culling of affected flocks to prevent the spread of the virus to humans.\n"
     ]
    }
   ],
   "source": [
    "import requests\n",
    "\n",
    "def check_connection():\n",
    "    \"\"\"Prüft ob Ollama-Server läuft (Timeout 3 Sekunden)\"\"\"\n",
    "    try:\n",
    "        return requests.get(\"http://localhost:11434/api/tags\", timeout=3).ok\n",
    "    except:\n",
    "        return False\n",
    "\n",
    "def ask_mistral(prompt):\n",
    "    if not check_connection():\n",
    "        raise ConnectionError(\"Ollama-Server nicht erreichbar (localhost:11434)\")\n",
    "    \n",
    "    response = requests.post(\n",
    "        \"http://localhost:11434/api/generate\",\n",
    "        json={\n",
    "            \"model\": \"mistral\",\n",
    "            \"prompt\": prompt,\n",
    "            \"stream\": False\n",
    "        }\n",
    "    )\n",
    "    return response.json()[\"response\"]\n",
    "\n",
    "# Beispiel mit integriertem Check:\n",
    "if check_connection():\n",
    "    print(ask_mistral(\"What is avian influenza?\"))\n",
    "else:\n",
    "    print(\"Fehler: Ollama nicht gestartet oder Port 11434 blockiert\")"
   ]
  }
 ],
 "metadata": {
  "kernelspec": {
   "display_name": "tensor",
   "language": "python",
   "name": "python3"
  },
  "language_info": {
   "codemirror_mode": {
    "name": "ipython",
    "version": 3
   },
   "file_extension": ".py",
   "mimetype": "text/x-python",
   "name": "python",
   "nbconvert_exporter": "python",
   "pygments_lexer": "ipython3",
   "version": "3.6.13"
  }
 },
 "nbformat": 4,
 "nbformat_minor": 2
}
