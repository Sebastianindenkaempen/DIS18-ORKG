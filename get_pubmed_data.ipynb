{
 "cells": [
  {
   "cell_type": "code",
   "execution_count": 3,
   "id": "195ee403",
   "metadata": {},
   "outputs": [],
   "source": [
    "# import pandas as pd\n",
    "import importlib\n",
    "import functions.pubmed_api\n",
    "importlib.reload(functions.pubmed_api)\n",
    "from functions.pubmed_api import get_pmcids, translate_pmid_to_pmcid"
   ]
  },
  {
   "cell_type": "code",
   "execution_count": 4,
   "id": "a329207c",
   "metadata": {},
   "outputs": [
    {
     "data": {
      "text/plain": [
       "['39535188', '28915920', '39053575', '18455796', '16566867']"
      ]
     },
     "execution_count": 4,
     "metadata": {},
     "output_type": "execute_result"
    }
   ],
   "source": [
    "search_term = '(avian influenza[MeSH Terms]) AND (disease outbreak[MeSH Terms])'\n",
    "\n",
    "pubmed_ids = get_pmcids(search_term, 5)\n",
    "pubmed_ids"
   ]
  },
  {
   "cell_type": "code",
   "execution_count": 5,
   "id": "cca0dd58",
   "metadata": {},
   "outputs": [
    {
     "data": {
      "text/plain": [
       "['PMC11633217', 'PMC5603032', 'PMC11485258', 'PMC7133821', 'PMC7089356']"
      ]
     },
     "execution_count": 5,
     "metadata": {},
     "output_type": "execute_result"
    }
   ],
   "source": [
    "pmc_ids = []\n",
    "\n",
    "for pmid in pubmed_ids:\n",
    "    pmc_id = translate_pmid_to_pmcid(pmid)\n",
    "    pmc_ids.append(pmc_id)\n",
    "\n",
    "pmc_ids"
   ]
  },
  {
   "cell_type": "code",
   "execution_count": null,
   "id": "971ca999",
   "metadata": {},
   "outputs": [],
   "source": []
  }
 ],
 "metadata": {
  "kernelspec": {
   "display_name": "dis18",
   "language": "python",
   "name": "python3"
  },
  "language_info": {
   "codemirror_mode": {
    "name": "ipython",
    "version": 3
   },
   "file_extension": ".py",
   "mimetype": "text/x-python",
   "name": "python",
   "nbconvert_exporter": "python",
   "pygments_lexer": "ipython3",
   "version": "3.10.16"
  }
 },
 "nbformat": 4,
 "nbformat_minor": 5
}
