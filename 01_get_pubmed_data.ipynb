{
 "cells": [
  {
   "cell_type": "code",
   "execution_count": 4,
   "id": "195ee403",
   "metadata": {},
   "outputs": [],
   "source": [
    "import pandas as pd\n",
    "import importlib\n",
    "import functions.pubmed_api\n",
    "importlib.reload(functions.pubmed_api)\n",
    "from functions.pubmed_api import get_pmids, translate_pmid_to_pmcid, get_full_xml, extract_article_data"
   ]
  },
  {
   "cell_type": "code",
   "execution_count": 5,
   "id": "a329207c",
   "metadata": {},
   "outputs": [
    {
     "data": {
      "text/plain": [
       "['28915920', '39535188', '40145745']"
      ]
     },
     "execution_count": 5,
     "metadata": {},
     "output_type": "execute_result"
    }
   ],
   "source": [
    "search_term = '(avian influenza[MeSH Terms]) AND (disease outbreak[MeSH Terms])'\n",
    "# https://www.ncbi.nlm.nih.gov/mesh?term=Disease+Outbreaks\n",
    "\n",
    "# TODO: Other diseases such as ehec and q-fever\n",
    "\n",
    "pubmed_ids = get_pmids(search_term, 3)\n",
    "pubmed_ids"
   ]
  },
  {
   "cell_type": "code",
   "execution_count": 6,
   "id": "cca0dd58",
   "metadata": {},
   "outputs": [
    {
     "data": {
      "text/plain": [
       "['PMC5603032', 'PMC11633217', 'PMC11998540']"
      ]
     },
     "execution_count": 6,
     "metadata": {},
     "output_type": "execute_result"
    }
   ],
   "source": [
    "pmc_ids = []\n",
    "\n",
    "for pmid in pubmed_ids:\n",
    "    pmc_id = translate_pmid_to_pmcid(pmid)\n",
    "    pmc_ids.append(pmc_id)\n",
    "\n",
    "pmc_ids"
   ]
  },
  {
   "cell_type": "code",
   "execution_count": 7,
   "id": "971ca999",
   "metadata": {},
   "outputs": [
    {
     "data": {
      "text/html": [
       "<div>\n",
       "<style scoped>\n",
       "    .dataframe tbody tr th:only-of-type {\n",
       "        vertical-align: middle;\n",
       "    }\n",
       "\n",
       "    .dataframe tbody tr th {\n",
       "        vertical-align: top;\n",
       "    }\n",
       "\n",
       "    .dataframe thead th {\n",
       "        text-align: right;\n",
       "    }\n",
       "</style>\n",
       "<table border=\"1\" class=\"dataframe\">\n",
       "  <thead>\n",
       "    <tr style=\"text-align: right;\">\n",
       "      <th></th>\n",
       "      <th>pmid</th>\n",
       "      <th>doi</th>\n",
       "      <th>title</th>\n",
       "      <th>abstract</th>\n",
       "      <th>full_text</th>\n",
       "      <th>authors</th>\n",
       "    </tr>\n",
       "  </thead>\n",
       "  <tbody>\n",
       "    <tr>\n",
       "      <th>0</th>\n",
       "      <td>28915920</td>\n",
       "      <td>10.1186/s13567-017-0453-2</td>\n",
       "      <td>Current situation of H9N2 subtype avian influe...</td>\n",
       "      <td>In China, H9N2 subtype avian influenza outbrea...</td>\n",
       "      <td>Introduction Avian influenza (AI) is initially...</td>\n",
       "      <td>Gu Min gumin@yzu.edu.cn 1 2 3, Xu Lijun xuliju...</td>\n",
       "    </tr>\n",
       "    <tr>\n",
       "      <th>1</th>\n",
       "      <td>39535188</td>\n",
       "      <td>10.1128/mbio.02542-24</td>\n",
       "      <td>Avian influenza A (H5N1) virus in dairy cattle...</td>\n",
       "      <td>ABSTRACTSince the emergence of highly pathogen...</td>\n",
       "      <td>INTRODUCTION Influenza viruses are classified ...</td>\n",
       "      <td>https://orcid.org/0000-0002-2878-5714 Mostafa ...</td>\n",
       "    </tr>\n",
       "    <tr>\n",
       "      <th>2</th>\n",
       "      <td>40145745</td>\n",
       "      <td>10.1128/jvi.02209-24</td>\n",
       "      <td>Highly pathogenic avian influenza H5N1: histor...</td>\n",
       "      <td>ABSTRACTThe H5N1 avian panzootic has resulted ...</td>\n",
       "      <td>INTRODUCTION Influenza virus pandemics are cau...</td>\n",
       "      <td>https://orcid.org/0000-0003-4121-776X Krammer ...</td>\n",
       "    </tr>\n",
       "  </tbody>\n",
       "</table>\n",
       "</div>"
      ],
      "text/plain": [
       "       pmid                        doi  \\\n",
       "0  28915920  10.1186/s13567-017-0453-2   \n",
       "1  39535188      10.1128/mbio.02542-24   \n",
       "2  40145745       10.1128/jvi.02209-24   \n",
       "\n",
       "                                               title  \\\n",
       "0  Current situation of H9N2 subtype avian influe...   \n",
       "1  Avian influenza A (H5N1) virus in dairy cattle...   \n",
       "2  Highly pathogenic avian influenza H5N1: histor...   \n",
       "\n",
       "                                            abstract  \\\n",
       "0  In China, H9N2 subtype avian influenza outbrea...   \n",
       "1  ABSTRACTSince the emergence of highly pathogen...   \n",
       "2  ABSTRACTThe H5N1 avian panzootic has resulted ...   \n",
       "\n",
       "                                           full_text  \\\n",
       "0  Introduction Avian influenza (AI) is initially...   \n",
       "1  INTRODUCTION Influenza viruses are classified ...   \n",
       "2  INTRODUCTION Influenza virus pandemics are cau...   \n",
       "\n",
       "                                             authors  \n",
       "0  Gu Min gumin@yzu.edu.cn 1 2 3, Xu Lijun xuliju...  \n",
       "1  https://orcid.org/0000-0002-2878-5714 Mostafa ...  \n",
       "2  https://orcid.org/0000-0003-4121-776X Krammer ...  "
      ]
     },
     "execution_count": 7,
     "metadata": {},
     "output_type": "execute_result"
    }
   ],
   "source": [
    "df_full_texts = pd.DataFrame(columns=['pmid', 'doi', 'title', 'abstract', 'full_text', 'authors'])\n",
    "\n",
    "for pmc_id in pmc_ids:\n",
    "    df_temp = extract_article_data(get_full_xml(pmc_id))\n",
    "    df_full_texts = pd.concat([df_full_texts, df_temp], ignore_index=True)\n",
    "\n",
    "# df_full_texts['pmcid'] = pmc_ids\n",
    "\n",
    "# Drop Articles that contain neither an abstract nor a full text\n",
    "# df_full_texts.dropna(subset=['abstract', 'full_text'], inplace=True, thresh=2, ignore_index=True)\n",
    "df_full_texts"
   ]
  },
  {
   "cell_type": "code",
   "execution_count": 8,
   "id": "55ad1713",
   "metadata": {},
   "outputs": [],
   "source": [
    "df_full_texts.to_csv('full_text.tsv', sep='\\t', mode='w')"
   ]
  }
 ],
 "metadata": {
  "kernelspec": {
   "display_name": "dis18",
   "language": "python",
   "name": "python3"
  },
  "language_info": {
   "codemirror_mode": {
    "name": "ipython",
    "version": 3
   },
   "file_extension": ".py",
   "mimetype": "text/x-python",
   "name": "python",
   "nbconvert_exporter": "python",
   "pygments_lexer": "ipython3",
   "version": "3.10.16"
  }
 },
 "nbformat": 4,
 "nbformat_minor": 5
}
