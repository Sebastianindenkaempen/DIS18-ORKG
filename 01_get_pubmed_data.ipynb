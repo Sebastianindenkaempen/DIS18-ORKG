{
 "cells": [
  {
   "cell_type": "code",
   "execution_count": 2,
   "id": "195ee403",
   "metadata": {},
   "outputs": [],
   "source": [
    "import pandas as pd\n",
    "import importlib\n",
    "import functions.pubmed_api\n",
    "importlib.reload(functions.pubmed_api)\n",
    "from functions.pubmed_api import get_pmcids, translate_pmid_to_pmcid, get_full_xml, extract_article_data"
   ]
  },
  {
   "cell_type": "code",
   "execution_count": 3,
   "id": "a329207c",
   "metadata": {},
   "outputs": [
    {
     "data": {
      "text/plain": [
       "['39535188', '28915920', '39053575', '18455796', '16566867']"
      ]
     },
     "execution_count": 3,
     "metadata": {},
     "output_type": "execute_result"
    }
   ],
   "source": [
    "search_term = '(avian influenza[MeSH Terms]) AND (disease outbreak[MeSH Terms])'\n",
    "\n",
    "pubmed_ids = get_pmcids(search_term, 5)\n",
    "pubmed_ids"
   ]
  },
  {
   "cell_type": "code",
   "execution_count": 4,
   "id": "cca0dd58",
   "metadata": {},
   "outputs": [
    {
     "data": {
      "text/plain": [
       "['PMC11633217', 'PMC5603032', 'PMC11485258', 'PMC7133821', 'PMC7089356']"
      ]
     },
     "execution_count": 4,
     "metadata": {},
     "output_type": "execute_result"
    }
   ],
   "source": [
    "pmc_ids = []\n",
    "\n",
    "for pmid in pubmed_ids:\n",
    "    pmc_id = translate_pmid_to_pmcid(pmid)\n",
    "    pmc_ids.append(pmc_id)\n",
    "\n",
    "pmc_ids"
   ]
  },
  {
   "cell_type": "code",
   "execution_count": 5,
   "id": "971ca999",
   "metadata": {},
   "outputs": [
    {
     "data": {
      "text/html": [
       "<div>\n",
       "<style scoped>\n",
       "    .dataframe tbody tr th:only-of-type {\n",
       "        vertical-align: middle;\n",
       "    }\n",
       "\n",
       "    .dataframe tbody tr th {\n",
       "        vertical-align: top;\n",
       "    }\n",
       "\n",
       "    .dataframe thead th {\n",
       "        text-align: right;\n",
       "    }\n",
       "</style>\n",
       "<table border=\"1\" class=\"dataframe\">\n",
       "  <thead>\n",
       "    <tr style=\"text-align: right;\">\n",
       "      <th></th>\n",
       "      <th>pmid</th>\n",
       "      <th>pmcid</th>\n",
       "      <th>title</th>\n",
       "      <th>abstract</th>\n",
       "      <th>full_text</th>\n",
       "      <th>authors</th>\n",
       "    </tr>\n",
       "  </thead>\n",
       "  <tbody>\n",
       "    <tr>\n",
       "      <th>0</th>\n",
       "      <td>39535188</td>\n",
       "      <td>PMC11633217</td>\n",
       "      <td>Avian influenza A (H5N1) virus in dairy cattle...</td>\n",
       "      <td>ABSTRACTSince the emergence of highly pathogen...</td>\n",
       "      <td>INTRODUCTION Influenza viruses are classified ...</td>\n",
       "      <td>https://orcid.org/0000-0002-2878-5714 Mostafa ...</td>\n",
       "    </tr>\n",
       "    <tr>\n",
       "      <th>1</th>\n",
       "      <td>28915920</td>\n",
       "      <td>PMC5603032</td>\n",
       "      <td>Current situation of H9N2 subtype avian influe...</td>\n",
       "      <td>In China, H9N2 subtype avian influenza outbrea...</td>\n",
       "      <td>Introduction Avian influenza (AI) is initially...</td>\n",
       "      <td>Gu Min gumin@yzu.edu.cn 1 2 3, Xu Lijun xuliju...</td>\n",
       "    </tr>\n",
       "    <tr>\n",
       "      <th>2</th>\n",
       "      <td>39053575</td>\n",
       "      <td>PMC11485258</td>\n",
       "      <td>Spillover of highly pathogenic avian influenza...</td>\n",
       "      <td>The highly pathogenic avian influenza (HPAI) H...</td>\n",
       "      <td>Main The HPAI virus H5Nx goose/Guangdong linea...</td>\n",
       "      <td>http://orcid.org/0000-0003-1643-8560 Caserta L...</td>\n",
       "    </tr>\n",
       "    <tr>\n",
       "      <th>4</th>\n",
       "      <td>16566867</td>\n",
       "      <td>PMC7089356</td>\n",
       "      <td>Avian influenza</td>\n",
       "      <td>The current epidemic of H5N1 highly pathogenic...</td>\n",
       "      <td>NaN</td>\n",
       "      <td>Zeitlin Gary A. MD, Maslow Melanie J. MD, FACP...</td>\n",
       "    </tr>\n",
       "  </tbody>\n",
       "</table>\n",
       "</div>"
      ],
      "text/plain": [
       "       pmid        pmcid                                              title  \\\n",
       "0  39535188  PMC11633217  Avian influenza A (H5N1) virus in dairy cattle...   \n",
       "1  28915920   PMC5603032  Current situation of H9N2 subtype avian influe...   \n",
       "2  39053575  PMC11485258  Spillover of highly pathogenic avian influenza...   \n",
       "4  16566867   PMC7089356                                    Avian influenza   \n",
       "\n",
       "                                            abstract  \\\n",
       "0  ABSTRACTSince the emergence of highly pathogen...   \n",
       "1  In China, H9N2 subtype avian influenza outbrea...   \n",
       "2  The highly pathogenic avian influenza (HPAI) H...   \n",
       "4  The current epidemic of H5N1 highly pathogenic...   \n",
       "\n",
       "                                           full_text  \\\n",
       "0  INTRODUCTION Influenza viruses are classified ...   \n",
       "1  Introduction Avian influenza (AI) is initially...   \n",
       "2  Main The HPAI virus H5Nx goose/Guangdong linea...   \n",
       "4                                                NaN   \n",
       "\n",
       "                                             authors  \n",
       "0  https://orcid.org/0000-0002-2878-5714 Mostafa ...  \n",
       "1  Gu Min gumin@yzu.edu.cn 1 2 3, Xu Lijun xuliju...  \n",
       "2  http://orcid.org/0000-0003-1643-8560 Caserta L...  \n",
       "4  Zeitlin Gary A. MD, Maslow Melanie J. MD, FACP...  "
      ]
     },
     "execution_count": 5,
     "metadata": {},
     "output_type": "execute_result"
    }
   ],
   "source": [
    "df_full_texts = pd.DataFrame(columns=['pmid', 'pmcid', 'title', 'abstract', 'full_text', 'authors'])\n",
    "\n",
    "for pmc_id in pmc_ids:\n",
    "    df_temp = extract_article_data(get_full_xml(pmc_id))\n",
    "    df_full_texts = pd.concat([df_full_texts, df_temp], ignore_index=True)\n",
    "\n",
    "df_full_texts['pmcid'] = pmc_ids\n",
    "\n",
    "# Drop Articles that contain neither an abstract nor a full text\n",
    "df_full_texts.dropna(subset=['abstract', 'full_text'], inplace=True, thresh=1)\n",
    "df_full_texts"
   ]
  },
  {
   "cell_type": "code",
   "execution_count": 6,
   "id": "55ad1713",
   "metadata": {},
   "outputs": [],
   "source": [
    "df_full_texts.to_csv('full_text.tsv', sep='\\t', mode='w')"
   ]
  }
 ],
 "metadata": {
  "kernelspec": {
   "display_name": "dis18",
   "language": "python",
   "name": "python3"
  },
  "language_info": {
   "codemirror_mode": {
    "name": "ipython",
    "version": 3
   },
   "file_extension": ".py",
   "mimetype": "text/x-python",
   "name": "python",
   "nbconvert_exporter": "python",
   "pygments_lexer": "ipython3",
   "version": "3.10.16"
  }
 },
 "nbformat": 4,
 "nbformat_minor": 5
}
